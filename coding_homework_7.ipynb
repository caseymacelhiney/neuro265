{
  "nbformat": 4,
  "nbformat_minor": 0,
  "metadata": {
    "colab": {
      "provenance": [],
      "include_colab_link": true
    },
    "kernelspec": {
      "name": "python3",
      "display_name": "Python 3"
    },
    "language_info": {
      "name": "python"
    }
  },
  "cells": [
    {
      "cell_type": "markdown",
      "metadata": {
        "id": "view-in-github",
        "colab_type": "text"
      },
      "source": [
        "<a href=\"https://colab.research.google.com/github/caseymacelhiney/neuro265/blob/main/coding_homework_7.ipynb\" target=\"_parent\"><img src=\"https://colab.research.google.com/assets/colab-badge.svg\" alt=\"Open In Colab\"/></a>"
      ]
    },
    {
      "cell_type": "markdown",
      "source": [
        "# Coding Homework #7\n",
        "\n",
        "**Instructions**\n",
        "\n",
        "1. Make a *Markdown Cell* that contains the following information:\n",
        "- Your name (small header)\n",
        "- The name of this class (italicized)\n",
        "- The date (bolded)\n",
        "\n",
        "2. Create a *Code Cell* that imports relevant modules - specifically, <code>numpy as np</code>, and <code>matplotlib.pyplot as plt</code>.\n",
        "\n",
        "3. For this assignment, you will be working with the <code>spikes_left_trial1.csv</code>, <code>spikes_right_trial1.csv</code>, <code>spikes_left_trial2</code>, and <code>spikes_right_trial2</code> files in our shared Google Drive folder. Create a *Code Cell* that imports these files as <code>numpy</code> arrays called <code>spikes_left_trial1</code>, <code>spikes_right_trial1</code>, <code>spikes_left_trial2</code>, and <code>spikes_right_trial2</code>, respectively. To do this, you should upload each file to your personal GitHub repo.\n",
        "\n",
        "4. Create a *Code Cell* that prints the <code>length</code> of each array.\n",
        "\n",
        "5. These data contain timestamp values for action potentials recorded from one neuron in the rat prefrontal cortex (PFC). Action potentials were recorded from tetrodes while the rat performed a task designed to test working memory - the **delayed alternation task**. During this task, rats were trained to go up the central stem of a _figure 8_ maze, and turn either left or right. Rewards (chocolate sprinkles) were placed at the end of the goal arm (the arm the rat went up after it made its turn at the end of the stem). The rat received a reward if it alternated between the two goal arms from trial to trial. In other words, the rat learned to go *left* on trial 1, and then *right* on trial 2, *left* on trial 3, etc. Between trials, the rat waited on a pedestal at the base of the maze for 30 seconds. This waiting period tested the rat's working memory because it had to keep in mind where it was going to go (left or right) when the 30 second waiting period was up. The spike timestamps in the four arrays you imported were from this 30 second waiting period. Specifically, <code>spikes_left_trial1</code> is from the waiting period before the first *left turn* trial (i.e., the rat turned left after the waiting period was up), and <code>spikes_right_trial1</code> is from the waiting period before the first *right turn* trial (i.e., the rat turned right after the waiting period was up). The <code>spikes_left_trial2</code> and <code>spikes_right_trial2</code> arrays are the same, but for the second left and right turn trials. We are interested to know whether the firing rate of this cell during the waiting period might predict which direction the rat turns on the upcoming trial.\n",
        "\n",
        "6. In a new *Code Cell*, write an expression to determine the firing rate of this neuron during each trial (first and second left turn trials, first and second right turn trials).\n",
        "\n",
        "7. In a new *Markdown Cell*, interpret these results - do you think this neuron fires more before left turn trials, or right turn trials?\n",
        "\n",
        "8. In a new *Code Cell*, make two subplots, and plot the spike train data from trial 1 in your first subplot, and the spike train data from trial 2 in your second subplot. You should have dots that correspond to action potentials in two rows (one for left turn, one for right turn) in each subplot. Label your axes. \n",
        "\n",
        "9. In a new *Markdown Cell*, interpret the graph from step 8. Does this neuron seem more \"bursty\", or more regular-firing, during left or right turn trials? \n",
        "\n",
        "10. In a new *Code Cell*, calculate inter-spike interval (ISI) arrays for each of your four spike arrays using the <code>np.diff()</code> function. Make sure to create a variable name for each ISI array.\n",
        "\n",
        "11. In a new *Code Cell*, make four histograms - one for each of your four ISI arrays. Set the bins for your histograms to start at time 0, and end at time 2 s, with a bin size equal to 0.01 s. Label your axes.\n",
        "\n",
        "12. In a new *Markdown Cell*, interpret your histograms. Does this neuron tend to fire in \"bursts\"? Does it have higher \"burstiness\" during left or right turn trials?\n",
        "\n",
        "13. In a new *Code Cell*, calculate the firing rate across time for each of your four arrays (trial 1 left-turn, trial 1 right-turn, trial 2 left-turn, and trial 2 right-turn). Set your time bins equal to start at 0 s, end at 30 s (the length of the waiting period), with a bin size equal to 1 s. Create two subplots, and plot the firing rate over time for each trial in each of the two subplots. For example, your first subplot should have the firing rate across time for trial 1 left-turn, and trial 1 right-turn, and your second subplot should have the firing rate across time for trial 2 left-turn, and trial 2 right-turn. Make the line for right-turn trials blue, and the line for left-turn trials red. Label your axes.\n",
        "\n",
        "14. In a new *Markdown Cell*, interpret your graph from step 13. Does the firing rate between left and right turn trials differ at specific timepoints during the 30 s waiting period? Is the pattern different for trial 1 and trial 2? \n",
        "\n",
        "15. Make sure to put a <code>#</code> in each *Code Cell* to describe what it does.\n",
        "\n",
        "16. Save a copy of this notebook to your GitHub repo with the title <code>coding_homework_7.ipynb</code>."
      ],
      "metadata": {
        "id": "8PeYpSUQiq6c"
      }
    },
    {
      "cell_type": "markdown",
      "source": [
        "##Casey MacElhiney\n",
        "_Intro to Neural Data Anaylsis_\n",
        "\n",
        "__April 3, 2023__"
      ],
      "metadata": {
        "id": "CdGaKAXryluQ"
      }
    },
    {
      "cell_type": "code",
      "source": [
        "#2 Create a Code Cell that imports relevant modules - specifically, numpy as np, and matplotlib.pyplot as plt.\n",
        "import numpy as np\n",
        "import matplotlib.pyplot as plt"
      ],
      "metadata": {
        "id": "QxYZDjb4zg4b"
      },
      "execution_count": 1,
      "outputs": []
    },
    {
      "cell_type": "code",
      "source": [
        "#3 For this assignment, you will be working with the spikes_left_trial1.csv, spikes_right_trial1.csv, spikes_left_trial2, and \n",
        "#spikes_right_trial2 files in our shared Google Drive folder. Create a Code Cell that imports these files as\n",
        "#numpy arrays called spikes_left_trial1, spikes_right_trial1, spikes_left_trial2, and spikes_right_trial2, respectively. \n",
        "#To do this, you should upload each file to your personal GitHub repo.\n",
        "url1 = 'https://raw.githubusercontent.com/caseymacelhiney/neuro265/main/spikes_left_trial1.csv'\n",
        "spikes_left_trial1 = np.loadtxt(url1, delimiter=\",\")\n",
        "url2 = 'https://raw.githubusercontent.com/caseymacelhiney/neuro265/main/spikes_right_trial1.csv'\n",
        "spikes_right_trial1 = np.loadtxt(url2, delimiter=\",\")\n",
        "url3 = 'https://raw.githubusercontent.com/caseymacelhiney/neuro265/main/spikes_left_trial2.csv'\n",
        "spikes_left_trial2 = np.loadtxt(url3, delimiter=\",\")\n",
        "url4 = 'https://raw.githubusercontent.com/caseymacelhiney/neuro265/main/spikes_right_trial2.csv'\n",
        "spikes_right_trial2 = np.loadtxt(url4, delimiter=\",\")"
      ],
      "metadata": {
        "id": "EDIbgDzDz42R"
      },
      "execution_count": 2,
      "outputs": []
    },
    {
      "cell_type": "code",
      "source": [
        "#4 Create a Code Cell that prints the length of each array.\n",
        "print(len(spikes_left_trial1))\n",
        "print(len(spikes_left_trial2))\n",
        "print(len(spikes_right_trial1))\n",
        "print(len(spikes_right_trial2))"
      ],
      "metadata": {
        "id": "LP8AUyUwZaWr",
        "outputId": "bca85bb9-b7ae-44c1-d885-a7c365ca25c2",
        "colab": {
          "base_uri": "https://localhost:8080/"
        }
      },
      "execution_count": 3,
      "outputs": [
        {
          "output_type": "stream",
          "name": "stdout",
          "text": [
            "65\n",
            "53\n",
            "45\n",
            "69\n"
          ]
        }
      ]
    },
    {
      "cell_type": "code",
      "source": [
        "#6 In a new Code Cell, write an expression to determine the firing rate of this neuron during each trial \n",
        "#(first and second left turn trials, first and second right turn trials).\n",
        "print(len(spikes_left_trial1)/30)\n",
        "print(len(spikes_left_trial2)/30)\n",
        "print(len(spikes_right_trial1)/30)\n",
        "print(len(spikes_right_trial2)/30)"
      ],
      "metadata": {
        "id": "-fhHPbRDa72S",
        "outputId": "43e8994e-64b2-4d7f-967f-a2e49d4b1247",
        "colab": {
          "base_uri": "https://localhost:8080/"
        }
      },
      "execution_count": 4,
      "outputs": [
        {
          "output_type": "stream",
          "name": "stdout",
          "text": [
            "2.1666666666666665\n",
            "1.7666666666666666\n",
            "1.5\n",
            "2.3\n"
          ]
        }
      ]
    },
    {
      "cell_type": "markdown",
      "source": [
        "**In a new Markdown Cell, interpret these results - do you think this neuron fires more before left turn trials, or right turn trials?**\n",
        "\n",
        "The neuron fires about the same ?"
      ],
      "metadata": {
        "id": "uJt8ZYSM32eE"
      }
    },
    {
      "cell_type": "code",
      "source": [
        "np.shape(spikes_left_trial1)\n"
      ],
      "metadata": {
        "id": "-UojwDRV5_p7",
        "outputId": "06c69fbf-5677-471a-9978-13b1abb9adca",
        "colab": {
          "base_uri": "https://localhost:8080/"
        }
      },
      "execution_count": 5,
      "outputs": [
        {
          "output_type": "execute_result",
          "data": {
            "text/plain": [
              "(65,)"
            ]
          },
          "metadata": {},
          "execution_count": 5
        }
      ]
    },
    {
      "cell_type": "code",
      "source": [
        "#In a new Code Cell, make two subplots, and plot the spike train data from trial 1 in your first subplot, \n",
        "#and the spike train data from trial 2 in your second subplot. \n",
        "#You should have dots that correspond to action potentials in two rows (one for left turn, one for right turn) in each subplot. Label your axes.\n",
        "fig,ax = plt.subplots(2,figsize=(10,10))\n",
        "\n",
        "ax[0].plot(spikes_left_trial1, np.ones_like(spikes_left_trial1), '.')  # Plot the low-light condition spikes\n",
        "ax[0].plot(spikes_right_trial1, 2 * np.ones_like(spikes_right_trial1), '.')  # ... and the high-light condition spikes, what it is multiplied by moved the high spike train higher\n",
        "ax[0].xlim([5, 10])              # Display times 0 to 5 s on the x-axis, then changed to 5 to 10\n",
        "ax[0].ylim([0, 3])              # ... and set the y-axis limits\n",
        "ax[0].xlabel('Time [s]')            # ... label the x-axis\n",
        "ax[0].legend({'Low', 'High'})   # ... show a legend\n",
        "ax[0].yticks([])  \n",
        "\n",
        "ax[1].plot(spikes_left_trial2, np.ones_like(spikes_left_trial2), '.')  # Plot the low-light condition spikes\n",
        "ax[1].plot(spikes_right_trial2, 2 * np.ones_like(spikes_right_trial2), '.')  # ... and the high-light condition spikes, what it is multiplied by moved the high spike train higher\n",
        "ax[1].xlim([5, 10])              # Display times 0 to 5 s on the x-axis, then changed to 5 to 10\n",
        "ax[1].ylim([0, 3])              # ... and set the y-axis limits\n",
        "ax[1].xlabel('Time [s]')            # ... label the x-axis\n",
        "ax[1].legend({'Low', 'High'})   # ... show a legend\n",
        "ax[1].yticks([])  "
      ],
      "metadata": {
        "id": "whcoiMll4xMH",
        "outputId": "03821c0d-7fe0-43ae-8e60-94dda9f94f26",
        "colab": {
          "base_uri": "https://localhost:8080/",
          "height": 1000
        }
      },
      "execution_count": 7,
      "outputs": [
        {
          "output_type": "error",
          "ename": "AttributeError",
          "evalue": "ignored",
          "traceback": [
            "\u001b[0;31m---------------------------------------------------------------------------\u001b[0m",
            "\u001b[0;31mAttributeError\u001b[0m                            Traceback (most recent call last)",
            "\u001b[0;32m<ipython-input-7-1c6c1375d480>\u001b[0m in \u001b[0;36m<cell line: 8>\u001b[0;34m()\u001b[0m\n\u001b[1;32m      6\u001b[0m \u001b[0max\u001b[0m\u001b[0;34m[\u001b[0m\u001b[0;36m0\u001b[0m\u001b[0;34m]\u001b[0m\u001b[0;34m.\u001b[0m\u001b[0mplot\u001b[0m\u001b[0;34m(\u001b[0m\u001b[0mspikes_left_trial1\u001b[0m\u001b[0;34m,\u001b[0m \u001b[0mnp\u001b[0m\u001b[0;34m.\u001b[0m\u001b[0mones_like\u001b[0m\u001b[0;34m(\u001b[0m\u001b[0mspikes_left_trial1\u001b[0m\u001b[0;34m)\u001b[0m\u001b[0;34m,\u001b[0m \u001b[0;34m'.'\u001b[0m\u001b[0;34m)\u001b[0m  \u001b[0;31m# Plot the low-light condition spikes\u001b[0m\u001b[0;34m\u001b[0m\u001b[0;34m\u001b[0m\u001b[0m\n\u001b[1;32m      7\u001b[0m \u001b[0max\u001b[0m\u001b[0;34m[\u001b[0m\u001b[0;36m0\u001b[0m\u001b[0;34m]\u001b[0m\u001b[0;34m.\u001b[0m\u001b[0mplot\u001b[0m\u001b[0;34m(\u001b[0m\u001b[0mspikes_right_trial1\u001b[0m\u001b[0;34m,\u001b[0m \u001b[0;36m2\u001b[0m \u001b[0;34m*\u001b[0m \u001b[0mnp\u001b[0m\u001b[0;34m.\u001b[0m\u001b[0mones_like\u001b[0m\u001b[0;34m(\u001b[0m\u001b[0mspikes_right_trial1\u001b[0m\u001b[0;34m)\u001b[0m\u001b[0;34m,\u001b[0m \u001b[0;34m'.'\u001b[0m\u001b[0;34m)\u001b[0m  \u001b[0;31m# ... and the high-light condition spikes, what it is multiplied by moved the high spike train higher\u001b[0m\u001b[0;34m\u001b[0m\u001b[0;34m\u001b[0m\u001b[0m\n\u001b[0;32m----> 8\u001b[0;31m \u001b[0max\u001b[0m\u001b[0;34m[\u001b[0m\u001b[0;36m0\u001b[0m\u001b[0;34m]\u001b[0m\u001b[0;34m.\u001b[0m\u001b[0mxlim\u001b[0m\u001b[0;34m(\u001b[0m\u001b[0;34m[\u001b[0m\u001b[0;36m5\u001b[0m\u001b[0;34m,\u001b[0m \u001b[0;36m10\u001b[0m\u001b[0;34m]\u001b[0m\u001b[0;34m)\u001b[0m              \u001b[0;31m# Display times 0 to 5 s on the x-axis, then changed to 5 to 10\u001b[0m\u001b[0;34m\u001b[0m\u001b[0;34m\u001b[0m\u001b[0m\n\u001b[0m\u001b[1;32m      9\u001b[0m \u001b[0max\u001b[0m\u001b[0;34m[\u001b[0m\u001b[0;36m0\u001b[0m\u001b[0;34m]\u001b[0m\u001b[0;34m.\u001b[0m\u001b[0mylim\u001b[0m\u001b[0;34m(\u001b[0m\u001b[0;34m[\u001b[0m\u001b[0;36m0\u001b[0m\u001b[0;34m,\u001b[0m \u001b[0;36m3\u001b[0m\u001b[0;34m]\u001b[0m\u001b[0;34m)\u001b[0m              \u001b[0;31m# ... and set the y-axis limits\u001b[0m\u001b[0;34m\u001b[0m\u001b[0;34m\u001b[0m\u001b[0m\n\u001b[1;32m     10\u001b[0m \u001b[0max\u001b[0m\u001b[0;34m[\u001b[0m\u001b[0;36m0\u001b[0m\u001b[0;34m]\u001b[0m\u001b[0;34m.\u001b[0m\u001b[0mxlabel\u001b[0m\u001b[0;34m(\u001b[0m\u001b[0;34m'Time [s]'\u001b[0m\u001b[0;34m)\u001b[0m            \u001b[0;31m# ... label the x-axis\u001b[0m\u001b[0;34m\u001b[0m\u001b[0;34m\u001b[0m\u001b[0m\n",
            "\u001b[0;31mAttributeError\u001b[0m: 'Axes' object has no attribute 'xlim'"
          ]
        },
        {
          "output_type": "display_data",
          "data": {
            "text/plain": [
              "<Figure size 1000x1000 with 2 Axes>"
            ],
            "image/png": "[encoded data removed]"
          },
          "metadata": {}
        }
      ]
    }
  ]
}