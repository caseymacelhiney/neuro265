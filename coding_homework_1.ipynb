{
  "nbformat": 4,
  "nbformat_minor": 0,
  "metadata": {
    "colab": {
      "provenance": [],
      "include_colab_link": true
    },
    "kernelspec": {
      "name": "python3",
      "display_name": "Python 3"
    },
    "language_info": {
      "name": "python"
    }
  },
  "cells": [
    {
      "cell_type": "markdown",
      "metadata": {
        "id": "view-in-github",
        "colab_type": "text"
      },
      "source": [
        "<a href=\"https://colab.research.google.com/github/caseymacelhiney/neuro265/blob/main/coding_homework_1.ipynb\" target=\"_parent\"><img src=\"https://colab.research.google.com/assets/colab-badge.svg\" alt=\"Open In Colab\"/></a>"
      ]
    },
    {
      "cell_type": "markdown",
      "source": [
        "# Coding Homework #1\n",
        "\n",
        "**Instructions** (Note: it is very important you follow these instructions in order!)\n",
        "\n",
        "1. Run the first *Code Cell* below.\n",
        "\n",
        "2. Make a *Markdown Cell* that contains the following information:\n",
        "  * Your name (small header)\n",
        "  * The name of this class (italicized)\n",
        "  * The date (bolded)\n",
        "\n",
        "3. **Important!**: For each *Code Cell* that you create, make at least one line of code with a `#` in front of it that describes what your code does.\n",
        "\n",
        "4. Make a *Code Cell* that turns `v_rest1.csv` into a `Pandas DataFrame` called `pandas_data1`, and `v_rest2.csv` into a `Pandas DataFrame` called `pandas_data2`. Recall that we covered how to import `.csv` files as `Pandas DataFrames` in our in-class coding activity on January 30th. \n",
        "\n",
        "5. Make a *Code Cell* that converts `pandas_data1` into a `list` variable called `data1`, and converts `pandas_data2` into a `list` variable called `data2`. The following syntax is an example of how to do this:\n",
        "\n",
        "\n",
        "```\n",
        "data1 = pandas_data1.values.tolist()\n",
        "```\n",
        "\n",
        "6. When you convert a `Pandas DataFrame` into a `list`, it brackets each individual element - we don't want that! To get around this issue, make a *Code Cell* that flattens `data1` and `data2` using the `numpy.squeeze()` function. Your first *Code Cell* imported the `NumPy` module as `np`, so we can use the following code to flatten `data1`:\n",
        "\n",
        "\n",
        "```\n",
        "data1 = np.squeeze(data1)\n",
        "```\n",
        "&nbsp;&nbsp;&nbsp;&nbsp;&nbsp;&nbsp;&nbsp;&nbsp;&nbsp;&nbsp;Repeat this for `data2`.\n",
        "\n",
        "7. Make a *Code Cell* that prints the length of `data1`.\n",
        "\n",
        "8. Make a *Code Cell* that prints the 5th, 6th, 7th, and 8th elements of `data2`.\n",
        "\n",
        "9. Make a *Code Cell* that prints the second-to-last and last elements of `data1` (use negative indexing).\n",
        "\n",
        "10. Make a *Code Cell* that prints the `type` of `data2` by using the `type` function.\n",
        "\n",
        "11. The first *Code Cell* you ran imports a module called `matplotlib`. In a new *Code Cell*, use `matplotlib` to make a histogram of `data1`. You can use the syntax `plt.hist()` to do this (remember that the variable you are applying the function to goes inside of the parentheses). \n",
        "\n",
        "12. In a new *Code Cell*, re-make your histogram and use the `plt.xlabel()` and `plt.ylabel()` functions to label your axes.\n",
        "\n",
        "13. In a new *Code Cell*, follow the instructions in steps 11 and 12 to make another histogram with axis labels for `data2`. \n",
        "\n",
        "14. In a new *Markdown Cell*, write a brief description of any differences that you observe between your two histograms. Does one group of cells seem to have a higher/lower resting membrane potential than the other group of cells?\n",
        "\n",
        "15. In a new *Code Cell*, create a new variable called `data3`. Let `data3` be a list containing both `data1` and `data2`. \n",
        "\n",
        "16. Make a *Code Cell* that prints the last element of `data2`. You must index `data3` to do this (hint: we covered this in our in-class coding activity on February 1st).\n",
        "\n",
        "17. Save a copy of this notebook to your GitHub repo with the title \"coding_homework_1.pynb\". "
      ],
      "metadata": {
        "id": "R8xCV2iP1KZ_"
      }
    },
    {
      "cell_type": "code",
      "source": [
        "# Import matplotlib, pandas, and numpy\n",
        "\n",
        "from matplotlib import pyplot as plt\n",
        "\n",
        "import pandas as pd\n",
        "\n",
        "import numpy as np"
      ],
      "metadata": {
        "id": "48IPWJIt59-Y"
      },
      "execution_count": null,
      "outputs": []
    },
    {
      "cell_type": "markdown",
      "source": [
        "#Casey MacElhiney#\n",
        "_Intro to Neural Data Anaylsis_\n",
        "\n",
        "__February 9, 2023__"
      ],
      "metadata": {
        "id": "NG5qeLYOEFT_"
      }
    },
    {
      "cell_type": "code",
      "source": [
        "#4 Turns v_rest1.csv into a Pandas DataFrame called pandas_data1, and v_rest2.csv into a Pandas DataFrame called pandas_data2\n",
        "url1 = 'https://raw.githubusercontent.com/caseymacelhiney/neuro265/main/vrest_1.csv'\n",
        "cell_types = pd.read_csv(url1)\n",
        "pandas_data1 = pd.read_csv(url1)\n",
        "url2 = 'https://raw.githubusercontent.com/caseymacelhiney/neuro265/main/vrest_2.csv'\n",
        "cell_types = pd.read_csv(url2)\n",
        "pandas_data2 = pd.read_csv(url2)"
      ],
      "metadata": {
        "id": "H3dH0Z89N99Z"
      },
      "execution_count": null,
      "outputs": []
    },
    {
      "cell_type": "code",
      "source": [
        "#5 Converts pandas_data1 into a list variable called data1, and converts pandas_data2 into a list variable called data2\n",
        "data1 = pandas_data1.values.tolist()\n",
        "data2 = pandas_data2.values.tolist()"
      ],
      "metadata": {
        "id": "dam82A4cWLjU",
        "outputId": "af7cd89b-7dee-4858-b40e-f71588dd67f4",
        "colab": {
          "base_uri": "https://localhost:8080/"
        }
      },
      "execution_count": null,
      "outputs": [
        {
          "output_type": "stream",
          "name": "stdout",
          "text": [
            "[[-67.83126153], [-71.71313418], [-65.94067154], [-73.74957886], [-75.42175522], [-69.68238068], [-67.27322515], [-70.36322937], [-67.56979311], [-73.21121724], [-80.27273369], [-69.15275574]]\n"
          ]
        }
      ]
    },
    {
      "cell_type": "code",
      "source": [
        "#6 Flatten data using numpy\n",
        "data1 = np.squeeze(data1)\n",
        "data2 = np.squeeze(data2)"
      ],
      "metadata": {
        "id": "Z5fE01koY6fx"
      },
      "execution_count": null,
      "outputs": []
    },
    {
      "cell_type": "code",
      "source": [
        "#7 Prints the length of data1\n",
        "len(data1)"
      ],
      "metadata": {
        "id": "WRCRb7MhZbb6",
        "outputId": "215eddcc-07c8-4a5b-963d-6e8c0ad4d277",
        "colab": {
          "base_uri": "https://localhost:8080/"
        }
      },
      "execution_count": null,
      "outputs": [
        {
          "output_type": "execute_result",
          "data": {
            "text/plain": [
              "12"
            ]
          },
          "metadata": {},
          "execution_count": 56
        }
      ]
    },
    {
      "cell_type": "code",
      "source": [
        "#8 Prints the 5th, 6th, 7th, and 8th elements of data2.\n",
        "print(data2)\n",
        "data2[4:8]"
      ],
      "metadata": {
        "id": "Nb57eMuXZ5gD",
        "outputId": "b7ce64e6-a815-4753-f31c-279ead214ea5",
        "colab": {
          "base_uri": "https://localhost:8080/"
        }
      },
      "execution_count": null,
      "outputs": [
        {
          "output_type": "stream",
          "name": "stdout",
          "text": [
            "[-74.73962989 -60.67856307 -71.13487571 -75.5516571  -69.92226492\n",
            " -65.97109916 -60.12157472 -71.51082631 -78.89204407 -60.05748825\n",
            " -63.1191864  -76.44429207]\n"
          ]
        },
        {
          "output_type": "execute_result",
          "data": {
            "text/plain": [
              "array([-69.92226492, -65.97109916, -60.12157472, -71.51082631])"
            ]
          },
          "metadata": {},
          "execution_count": 83
        }
      ]
    },
    {
      "cell_type": "code",
      "source": [
        "#9 Prints the second-to-last and last elements of data1 (use negative indexing).\n",
        "print(data1)\n",
        "data1[-2]"
      ],
      "metadata": {
        "id": "RGK15ikKcdqJ",
        "outputId": "9b4dd031-3237-4ef6-b3ae-d22aed839167",
        "colab": {
          "base_uri": "https://localhost:8080/"
        }
      },
      "execution_count": null,
      "outputs": [
        {
          "output_type": "stream",
          "name": "stdout",
          "text": [
            "[-67.83126153 -71.71313418 -65.94067154 -73.74957886 -75.42175522\n",
            " -69.68238068 -67.27322515 -70.36322937 -67.56979311 -73.21121724\n",
            " -80.27273369 -69.15275574]\n"
          ]
        },
        {
          "output_type": "execute_result",
          "data": {
            "text/plain": [
              "-80.27273369"
            ]
          },
          "metadata": {},
          "execution_count": 84
        }
      ]
    },
    {
      "cell_type": "code",
      "source": [
        "#10 Prints the type of data2 by using the type function.\n",
        "type(data2)"
      ],
      "metadata": {
        "id": "9cq0FIwIdDW6",
        "outputId": "c1e6e36d-7238-4bad-b145-b534ff890919",
        "colab": {
          "base_uri": "https://localhost:8080/"
        }
      },
      "execution_count": null,
      "outputs": [
        {
          "output_type": "execute_result",
          "data": {
            "text/plain": [
              "numpy.ndarray"
            ]
          },
          "metadata": {},
          "execution_count": 87
        }
      ]
    },
    {
      "cell_type": "code",
      "source": [
        "#11 Use matplotlib to make a histogram of data1\n",
        "plt.hist(data1)"
      ],
      "metadata": {
        "id": "qRRvq-s-dlNF",
        "outputId": "b7323c48-2de4-4aa3-d748-5e9d5702d566",
        "colab": {
          "base_uri": "https://localhost:8080/",
          "height": 350
        }
      },
      "execution_count": null,
      "outputs": [
        {
          "output_type": "execute_result",
          "data": {
            "text/plain": [
              "(array([1., 0., 0., 1., 2., 1., 1., 2., 2., 2.]),\n",
              " array([-80.27273369, -78.83952747, -77.40632126, -75.97311505,\n",
              "        -74.53990883, -73.10670261, -71.6734964 , -70.24029018,\n",
              "        -68.80708397, -67.37387775, -65.94067154]),\n",
              " <a list of 10 Patch objects>)"
            ]
          },
          "metadata": {},
          "execution_count": 88
        },
        {
          "output_type": "display_data",
          "data": {
            "text/plain": [
              "<Figure size 432x288 with 1 Axes>"
            ],
            "image/png": "[encoded data removed]"
          },
          "metadata": {
            "needs_background": "light"
          }
        }
      ]
    },
    {
      "cell_type": "code",
      "source": [
        "#12 Re-make histogram and use the plt.xlabel() and plt.ylabel() functions to label your axes.\n",
        "plt.xlabel('membrane potential')\n",
        "plt.ylabel('counts')\n",
        "plt.hist(data1)"
      ],
      "metadata": {
        "id": "7vKoqt9Hd8oq",
        "outputId": "c879ef2f-e0d9-4c68-b6e4-a1bb790214ec",
        "colab": {
          "base_uri": "https://localhost:8080/",
          "height": 364
        }
      },
      "execution_count": null,
      "outputs": [
        {
          "output_type": "execute_result",
          "data": {
            "text/plain": [
              "(array([1., 0., 0., 1., 2., 1., 1., 2., 2., 2.]),\n",
              " array([-80.27273369, -78.83952747, -77.40632126, -75.97311505,\n",
              "        -74.53990883, -73.10670261, -71.6734964 , -70.24029018,\n",
              "        -68.80708397, -67.37387775, -65.94067154]),\n",
              " <a list of 10 Patch objects>)"
            ]
          },
          "metadata": {},
          "execution_count": 95
        },
        {
          "output_type": "display_data",
          "data": {
            "text/plain": [
              "<Figure size 432x288 with 1 Axes>"
            ],
            "image/png": "[encoded data removed]"
          },
          "metadata": {
            "needs_background": "light"
          }
        }
      ]
    },
    {
      "cell_type": "code",
      "source": [
        "#13 Histogram for data2\n",
        "plt.xlabel('membrane potential')\n",
        "plt.ylabel('counts')\n",
        "plt.hist(data2)"
      ],
      "metadata": {
        "id": "Hx064-uTetWW",
        "outputId": "deae0844-ce14-4eac-aa26-2a5ac637e1c1",
        "colab": {
          "base_uri": "https://localhost:8080/",
          "height": 364
        }
      },
      "execution_count": null,
      "outputs": [
        {
          "output_type": "execute_result",
          "data": {
            "text/plain": [
              "(array([1., 2., 1., 1., 2., 0., 1., 0., 1., 3.]),\n",
              " array([-78.89204407, -77.00858849, -75.12513291, -73.24167732,\n",
              "        -71.35822174, -69.47476616, -67.59131058, -65.707855  ,\n",
              "        -63.82439941, -61.94094383, -60.05748825]),\n",
              " <a list of 10 Patch objects>)"
            ]
          },
          "metadata": {},
          "execution_count": 96
        },
        {
          "output_type": "display_data",
          "data": {
            "text/plain": [
              "<Figure size 432x288 with 1 Axes>"
            ],
            "image/png": "[encoded data removed]"
          },
          "metadata": {
            "needs_background": "light"
          }
        }
      ]
    },
    {
      "cell_type": "markdown",
      "source": [
        "##14- Differences between two histograms:##\n",
        "Data A has more counts at more positive membrane potentials, and Data B for the msot part has more counts at more negative membrane potentials. This indicates that in Data A the action potentials fire much slower when the membrane potential is more positive, and the opposite occurs for Data B except for at about -60mV. Because of this, I would assume that Data A has a higher resting membrane potential, and Data B has a lower resting membrane potential. "
      ],
      "metadata": {
        "id": "dZmyofgQfqZb"
      }
    },
    {
      "cell_type": "code",
      "source": [
        "#15 Create a new variable called data3. Let data3 be a list containing both data1 and data2.\n",
        "data3 = (data1, data2)"
      ],
      "metadata": {
        "id": "Y7ymaU29h60G"
      },
      "execution_count": null,
      "outputs": []
    },
    {
      "cell_type": "code",
      "source": [
        "# 16 Prints the last element of data2\n",
        "print(data3)\n",
        "print(data3[1][-1])"
      ],
      "metadata": {
        "id": "n_00SPT4iSd8",
        "outputId": "5c79c704-30ca-46ff-db6b-a0b60145cfdb",
        "colab": {
          "base_uri": "https://localhost:8080/"
        }
      },
      "execution_count": null,
      "outputs": [
        {
          "output_type": "stream",
          "name": "stdout",
          "text": [
            "(array([-67.83126153, -71.71313418, -65.94067154, -73.74957886,\n",
            "       -75.42175522, -69.68238068, -67.27322515, -70.36322937,\n",
            "       -67.56979311, -73.21121724, -80.27273369, -69.15275574]), array([-74.73962989, -60.67856307, -71.13487571, -75.5516571 ,\n",
            "       -69.92226492, -65.97109916, -60.12157472, -71.51082631,\n",
            "       -78.89204407, -60.05748825, -63.1191864 , -76.44429207]))\n",
            "-76.44429207\n"
          ]
        }
      ]
    }
  ]
}