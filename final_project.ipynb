{
  "cells": [
    {
      "cell_type": "markdown",
      "metadata": {
        "id": "view-in-github",
        "colab_type": "text"
      },
      "source": [
        "<a href=\"https://colab.research.google.com/github/caseymacelhiney/neuro265/blob/main/final_project.ipynb\" target=\"_parent\"><img src=\"https://colab.research.google.com/assets/colab-badge.svg\" alt=\"Open In Colab\"/></a>"
      ]
    },
    {
      "cell_type": "markdown",
      "source": [
        "##Casey MacElhiney\n",
        "_Intro to Neural Data Anaylsis Final Project_\n",
        "\n",
        "__April 25, 2023__"
      ],
      "metadata": {
        "id": "DZk6CZN_Vaoj"
      }
    },
    {
      "cell_type": "code",
      "source": [
        "import numpy as np\n",
        "import matplotlib.pyplot as plt\n",
        "import pandas as pd"
      ],
      "metadata": {
        "id": "CWgtOBfQHTHQ"
      },
      "execution_count": 1,
      "outputs": []
    },
    {
      "cell_type": "code",
      "source": [
        "url1 = 'https://raw.githubusercontent.com/caseymacelhiney/neuro265/main/alzheimers_pathology_final_project.csv'\n",
        "alzheimers_pathology = pd.read_csv(url1)\n",
        "url2 = 'https://raw.githubusercontent.com/caseymacelhiney/neuro265/main/patch_seq_final_project.csv'\n",
        "patch_seq = pd.read_csv(url2)\n"
      ],
      "metadata": {
        "id": "DT-aeCy2VzxC"
      },
      "execution_count": 2,
      "outputs": []
    },
    {
      "cell_type": "code",
      "source": [
        "print(alzheimers_pathology.iloc[:,26])"
      ],
      "metadata": {
        "id": "ahMiCG_DYqKK",
        "outputId": "f381d97e-527a-47a8-cdb1-ffd58a36d479",
        "colab": {
          "base_uri": "https://localhost:8080/"
        }
      },
      "execution_count": 16,
      "outputs": [
        {
          "output_type": "stream",
          "name": "stdout",
          "text": [
            "0     0.000000\n",
            "1     0.000000\n",
            "2     0.035317\n",
            "3     0.015348\n",
            "4     0.000000\n",
            "        ...   \n",
            "79    0.087974\n",
            "80    0.000000\n",
            "81    0.000000\n",
            "82    0.000000\n",
            "83    0.000000\n",
            "Name: percent pTDP43 positive area_Grey matter, Length: 84, dtype: float64\n"
          ]
        }
      ]
    },
    {
      "cell_type": "code",
      "source": [
        "print(alzheimers_pathology.iloc[:,32])"
      ],
      "metadata": {
        "id": "rPO0J7BUZVi-",
        "outputId": "38043dbe-1773-45d9-bc5a-7040fc8748cf",
        "colab": {
          "base_uri": "https://localhost:8080/"
        }
      },
      "execution_count": 17,
      "outputs": [
        {
          "output_type": "stream",
          "name": "stdout",
          "text": [
            "0     0.000000\n",
            "1     0.000000\n",
            "2     0.002863\n",
            "3     0.002192\n",
            "4     0.000000\n",
            "        ...   \n",
            "79    0.066525\n",
            "80    0.000000\n",
            "81    0.000000\n",
            "82    0.000000\n",
            "83    0.000000\n",
            "Name: percent pTDP43 and AT8 positive co-expression cells_Grey matter, Length: 84, dtype: float64\n"
          ]
        }
      ]
    },
    {
      "cell_type": "code",
      "source": [
        "plt.hist(alzheimers_pathology.iloc[:,32]) #percent pTDP43 and AT8 positive co-expression cells_Grey matter"
      ],
      "metadata": {
        "id": "_CDrpDeqWYo6",
        "outputId": "3eaa9157-3de2-42fb-e346-76d04824c04a",
        "colab": {
          "base_uri": "https://localhost:8080/",
          "height": 515
        }
      },
      "execution_count": 24,
      "outputs": [
        {
          "output_type": "execute_result",
          "data": {
            "text/plain": [
              "(array([82.,  0.,  1.,  0.,  0.,  0.,  0.,  0.,  0.,  1.]),\n",
              " array([0.        , 0.00665247, 0.01330494, 0.01995741, 0.02660988,\n",
              "        0.03326235, 0.03991482, 0.04656729, 0.05321976, 0.05987223,\n",
              "        0.0665247 ]),\n",
              " <BarContainer object of 10 artists>)"
            ]
          },
          "metadata": {},
          "execution_count": 24
        },
        {
          "output_type": "display_data",
          "data": {
            "text/plain": [
              "<Figure size 640x480 with 1 Axes>"
            ],
            "image/png": "[encoded data removed]"
          },
          "metadata": {}
        }
      ]
    },
    {
      "cell_type": "code",
      "source": [
        "plt.hist(alzheimers_pathology.iloc[:,26]) #percent pTDP43 positive area_Grey matter"
      ],
      "metadata": {
        "id": "jJEof42BZ3Zx",
        "outputId": "4329e2fd-e9ac-47c3-b66a-38dac6e7305c",
        "colab": {
          "base_uri": "https://localhost:8080/",
          "height": 516
        }
      },
      "execution_count": 25,
      "outputs": [
        {
          "output_type": "execute_result",
          "data": {
            "text/plain": [
              "(array([77.,  4.,  1.,  0.,  0.,  0.,  0.,  1.,  0.,  1.]),\n",
              " array([0.        , 0.01223707, 0.02447414, 0.0367112 , 0.04894827,\n",
              "        0.06118534, 0.07342241, 0.08565947, 0.09789654, 0.11013361,\n",
              "        0.12237068]),\n",
              " <BarContainer object of 10 artists>)"
            ]
          },
          "metadata": {},
          "execution_count": 25
        },
        {
          "output_type": "display_data",
          "data": {
            "text/plain": [
              "<Figure size 640x480 with 1 Axes>"
            ],
            "image/png": "[encoded data removed]"
          },
          "metadata": {}
        }
      ]
    }
  ],
  "metadata": {
    "colab": {
      "name": "Welcome To Colaboratory",
      "provenance": [],
      "include_colab_link": true
    },
    "kernelspec": {
      "display_name": "Python 3",
      "name": "python3"
    }
  },
  "nbformat": 4,
  "nbformat_minor": 0
}