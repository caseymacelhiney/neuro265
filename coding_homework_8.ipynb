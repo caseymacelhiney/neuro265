{
  "nbformat": 4,
  "nbformat_minor": 0,
  "metadata": {
    "colab": {
      "provenance": [],
      "include_colab_link": true
    },
    "kernelspec": {
      "name": "python3",
      "display_name": "Python 3"
    },
    "language_info": {
      "name": "python"
    }
  },
  "cells": [
    {
      "cell_type": "markdown",
      "metadata": {
        "id": "view-in-github",
        "colab_type": "text"
      },
      "source": [
        "<a href=\"https://colab.research.google.com/github/caseymacelhiney/neuro265/blob/main/coding_homework_8.ipynb\" target=\"_parent\"><img src=\"https://colab.research.google.com/assets/colab-badge.svg\" alt=\"Open In Colab\"/></a>"
      ]
    },
    {
      "cell_type": "markdown",
      "source": [
        "# Coding Homework #8\n",
        "\n",
        "**Instructions**\n",
        "\n",
        "1. Make a *Markdown Cell* that contains the following information:\n",
        "- Your name (small header)\n",
        "- The name of this class (italicized)\n",
        "- The date (bolded)\n",
        "\n",
        "2. Create a *Code Cell* that imports relevant modules - specifically, <code>numpy as np</code>, <code>matplotlib.pyplot as plt</code>, and <code>from scipy.stats import pearsonr</code>.\n",
        "\n",
        "3. For this assignment, you will be working with the <code>fear_conditioning_traces_hw8.csv</code>, and <code>extinction_predictors_hw8.csv</code> files that I uploaded to our shared Google Drive folder. You will also be using the <code>shock_index.csv</code> and <code>tone_index.csv</code> files on our shared GitHub repo (we used these files to complete our in-class coding notebook on 4/12/23). Upload all of these files to your GitHub repo, and import them as <code>numpy</code> arrays named <code>fear_traces</code>, <code>extinction_predictors</code>, <code>shock_index</code>, and <code>tone_index</code>, respectively, in a *Code Cell*. **Important**: Make sure you that import <code>tone_index.csv</code> and <code>shock_index.csv</code> using the **exact** syntax that we used in our 4/12/23 in-class notebook - e.g., <code>np.loadtxt('', delimiter = ',').astype(int)</code>.\n",
        "\n",
        "4. The <code>fear_conditioning_traces</code> array contains scaled (between 0 and 1) fluorescent traces from ROIs (individual cells) in the anterior cingulate cortex (ACC) of one mouse during **fear conditioning** and **fear extinction**. We went over fear conditioning in class - the mouse is presented with an auditory tone that coincides with a mild foot-shock. The mouse learns to associate the tone with the foot-shock, thereby forming a fear memory. This mouse underwent fear conditioning, and 48 hours later, was placed back into the conditioning chamber and presented with the auditory tone to assess how well it remembered the tone/foot-shock combination. The tone was presented a total of 22 times - eventually, as the tone is continuously presented without the foot-shock, the mouse begins to disassociate the tone and the foot-shock, and form a neutral extinction memory. The cells in your <code>fear_conditioning_traces</code> array were able to be stably imaged across both sessions, allowing us to compare how they react across fear memory formation and extinction.\n",
        "\n",
        "5. In a new *Code Cell*, make two new variables - <code>conditioning_traces</code>, and <code>extinction_traces</code>. Your <code>fear_conditioning_traces</code> array contains ROIs (cells) in columns, and samples in rows. The first 10458 samples correspond to the conditioning session, and the remaining samples correspond to the extinction session. Your <code>conditioning_traces</code> array should contain the first 10458 samples (as rows), with ROIs (cells) as columns. Your <code>extinction_traces</code> array should contain the remaining (10459 through the final sample) samples (as rows), with ROIs (cells) as columns. \n",
        "\n",
        "6. In a new *Code Cell*, print the size of your <code>conditioning_traces</code> and <code>extinction_traces</code> arrays. \n",
        "\n",
        "7. In a new *Code Cell*, make <code>time_conditioning</code> and <code>time_extinction</code> variables, corresponding to time during the conditioning session, and time during the extinction session, respectively. The sampling rate for the miniscope used to capture these data was 15 fps. Use this information to make your variables, which should both start at \"0\", end at the total length of the recording session (in seconds), and have a length equal to the number of samples for each session.\n",
        "\n",
        "8. In a new *Markdown Cell*, state the number of ROIs (cells) that were imaged during these sessions, and the total length of time, both in seconds, and in minutes, of the conditioning and extinction sessions.\n",
        "\n",
        "9. In a new *Code Cell*, plot the first and second ROIs from your <code>conditioning_traces</code> variable in one subplot. Plot the first and second ROIs from your <code>extinction_traces</code> variable in a second subplot. Make the first ROI <font color = 'blue'>blue</font>, and the second ROI <font color = 'red'>red</font> in each subplot. Put time on the x-axis of both subplots. Make vertical black lines at shock onset (3 total), and vertical green lines at tone onset (3 total) in your first subplot. Label your axes.\n",
        "\n",
        "10. In a new *Markdown Cell*, describe the relationship between the conditioning/extinction traces for your first ROI, and the conditioning/extinction traces for your second ROI. Does there seem to be a relationship between how a cell responds during conditioning, and how it responds during extinction?\n",
        "\n",
        "11. To evaluate how each cell might respond during conditioning and extinction more formally, we're going to use generalized linear modeling (GLM). To do this, we're going to use shock onset and tone onset as predictors in our model for the conditioning session, and tone onset as predictors for another model for the extinction session. We'll correlate the actual traces and the predicted traces from these models, and compare correlation coefficients between the two sessions to see if there's a relationship. This will answer the question: If a cell responds more strongly to shocks/tones during conditioning, does it also respond more strongly to tones during extinction? In other words - are the cells that encode the tone/shock memory the same cells that form the extinction memory?\n",
        "\n",
        "12. In a new *Code Cell*, make a <code>predictors_conditioning</code> variable that contains shock onset and tone onset. Reference our in-class notebook from 4/12/23 to do this - specifically, the *Code Cell* underneath the section that says **Modeling our Fear Data**. These are the same data that we used for this notebook, so you can use this exact code to re-create your <code>shock_array</code> and <code>tone_array</code> variables. Reference how we made the <code>predictors</code> variable for <code>model1</code> and <code>model3</code> in that notebook - you should have the same <code>predictors</code> variable as <code>model3</code> for your <code>predictors_conditioning</code> variable here (i.e., the two variables should be identical). \n",
        "\n",
        "13. We want to now run our model for each ROI in our <code>conditioning_traces</code> array, correlate the predicted trace vs. the actual trace, and store the correlation coefficient in a new variable called <code>r_model_conditioning</code>. To do this, reference the last *Code Cell* in our notebook from 4/12/23 - specifically, the subsection that says <code># For model 3</code>. You will need to first create your <code>r_model_conditioning</code> variable using <code>np.zeros</code> - remember that this time, we have more than 10 ROIs, so you will need to change the number inside of the parentheses. You will also need to change the number of times your loop runs from <code>for i in range(10)</code> to loop through all of the ROIs in your <code>conditioning_traces</code> array. In a new *Code Cell*, create your <code>r_model_conditioning</code> variable, and run your <code>for</code> loop. Each loop should extract an ROI from <code>conditioning_traces</code>, run <code>sm.GLM</code> between the trace and the <code>predictors</code> variable you created, fit the model, create a predicted trace, get a correlation coefficient using <code>pearsonr</code>, and store the correlation coefficient in a new column of <code>r_index_conditioning</code>.\n",
        "\n",
        "14. In a new *Code Cell*, run another loop that does the same thing for your <code>extinction_traces</code> array. This time, you should make a variable called <code>r_index_extinction</code> to store your correlation coefficients. You should use your <code>extinction_predictors</code> variable as the predictor for your model (this contains values for tone onset during the extinction session). \n",
        "\n",
        "15. In a new *Code Cell*, use the <code>pearsonr</code> function to correlate your <code>r_index_conditioning</code> and <code>r_index_extinction</code> variables.\n",
        "\n",
        "16. In a new *Code Cell*, make a <code>scatter</code> plot with <code>r_index_conditioning</code> on the x-axis, and <code>r_index_extinction</code> on the y-axis. Label your axes.\n",
        "\n",
        "17. In a new *Markdown Cell*, interpret your results. Based on your correlation coefficient and scatter plot, does it seem like a cell that responds strongly to shock and tone onset during the conditioning session is more likely to respond strongly to tone onset during the extinction session?\n",
        "\n",
        "18. Make sure to put a <code>#</code> in each *Code Cell* to describe what it does.\n",
        "\n",
        "19. Save a copy of this notebook to your GitHub repo with the title <code>coding_homework_8.ipynb</code>."
      ],
      "metadata": {
        "id": "z_xhza_a8R7G"
      }
    },
    {
      "cell_type": "markdown",
      "source": [
        "##Casey MacElhiney\n",
        "_Intro to Neural Data Anaylsis_\n",
        "\n",
        "__April 3, 2023__"
      ],
      "metadata": {
        "id": "mKkmFqmNCbdk"
      }
    },
    {
      "cell_type": "code",
      "source": [
        "#Create a Code Cell that imports relevant modules - specifically, numpy as np, matplotlib.pyplot as plt, and from scipy.stats import pearsonr.\n",
        "import numpy as np\n",
        "import matplotlib.pyplot as plt\n",
        "import scipy.stats as pearsonr"
      ],
      "metadata": {
        "id": "nQKBupfmI2ly"
      },
      "execution_count": 1,
      "outputs": []
    },
    {
      "cell_type": "code",
      "source": [
        "#For this assignment, you will be working with the fear_conditioning_traces_hw8.csv, and extinction_predictors_hw8.csv files that I uploaded to our shared Google Drive folder. \n",
        "#You will also be using the shock_index.csv and tone_index.csv files on our shared GitHub repo \n",
        "#(we used these files to complete our in-class coding notebook on 4/12/23). \n",
        "#Upload all of these files to your GitHub repo, and import them as numpy arrays named fear_traces, extinction_predictors,\n",
        "#shock_index, and tone_index, respectively, in a Code Cell. I\n",
        "#mportant: Make sure you that import tone_index.csv and shock_index.csv using the exact syntax that we used in our 4/12/23 in-class notebook - \n",
        "#e.g., np.loadtxt('', delimiter = ',').astype(int).\n",
        "shock_index = np.loadtxt('https://raw.githubusercontent.com/hallockh/neur_265/main/shock_index.csv', delimiter = ',').astype(int)\n",
        "tone_index = np.loadtxt('https://raw.githubusercontent.com/hallockh/neur_265/main/tone_index.csv', delimiter = ',').astype(int)\n",
        "extinction_predictors = np.loadtxt('https://raw.githubusercontent.com/caseymacelhiney/neuro265/main/extinction_predictors_hw8.csv', delimiter=\",\")\n",
        "fear_traces = np.loadtxt('https://raw.githubusercontent.com/caseymacelhiney/neuro265/main/fear_conditioning_traces_hw8.csv', delimiter=\",\")"
      ],
      "metadata": {
        "id": "t6tOHCmxJFmF"
      },
      "execution_count": 2,
      "outputs": []
    },
    {
      "cell_type": "code",
      "source": [
        "fear_traces"
      ],
      "metadata": {
        "id": "NxmbUBjiR7jA",
        "outputId": "d472c6e9-4ff7-4dde-f1ce-1986608f2838",
        "colab": {
          "base_uri": "https://localhost:8080/"
        }
      },
      "execution_count": 3,
      "outputs": [
        {
          "output_type": "execute_result",
          "data": {
            "text/plain": [
              "array([[0.15983534, 0.41501203, 0.3902705 , ..., 0.35204699, 0.48097605,\n",
              "        0.62691492],\n",
              "       [0.16923594, 0.42458029, 0.41144669, ..., 0.34330168, 0.48668911,\n",
              "        0.60960583],\n",
              "       [0.16266296, 0.42059838, 0.41282583, ..., 0.3496634 , 0.50390474,\n",
              "        0.60653214],\n",
              "       ...,\n",
              "       [0.10190191, 0.13573   , 0.10133815, ..., 0.37895831, 0.42750513,\n",
              "        0.44738347],\n",
              "       [0.10574757, 0.16318269, 0.11586664, ..., 0.38334589, 0.41140551,\n",
              "        0.44590861],\n",
              "       [0.09936723, 0.14104242, 0.11517277, ..., 0.39657268, 0.41661691,\n",
              "        0.4648573 ]])"
            ]
          },
          "metadata": {},
          "execution_count": 3
        }
      ]
    },
    {
      "cell_type": "code",
      "source": [
        "#In a new Code Cell, make two new variables - conditioning_traces, and extinction_traces. \n",
        "#Your fear_conditioning_traces array contains ROIs (cells) in columns, and samples in rows. \n",
        "#The first 10458 samples correspond to the conditioning session, and the remaining samples correspond to the extinction session. \n",
        "#Your conditioning_traces array should contain the first 10458 samples (as rows), with ROIs (cells) as columns. \n",
        "#Your extinction_traces array should contain the remaining (10459 through the final sample) samples (as rows), with ROIs (cells) as columns.\n",
        "conditioning_traces = fear_traces[0:10458,:]\n",
        "extinction_traces = fear_traces[10459:,:]"
      ],
      "metadata": {
        "id": "DUxyKqZ0QmJE"
      },
      "execution_count": 4,
      "outputs": []
    },
    {
      "cell_type": "code",
      "source": [
        "#In a new Code Cell, print the size of your conditioning_traces and extinction_traces arrays.\n",
        "print(conditioning_traces.shape) #did this here so I could see how many ROIs there were\n",
        "print(extinction_traces.shape)\n",
        "print(conditioning_traces.size)\n",
        "print(extinction_traces.size)"
      ],
      "metadata": {
        "id": "WefY6nGAkwcI",
        "outputId": "e3e3d196-a774-46b9-d2d5-7ea8318da9ed",
        "colab": {
          "base_uri": "https://localhost:8080/"
        }
      },
      "execution_count": 5,
      "outputs": [
        {
          "output_type": "stream",
          "name": "stdout",
          "text": [
            "(10458, 63)\n",
            "(14209, 63)\n",
            "658854\n",
            "895167\n"
          ]
        }
      ]
    },
    {
      "cell_type": "code",
      "source": [
        "len(conditioning_traces)\n",
        "10458/15"
      ],
      "metadata": {
        "id": "UWYp4oxKnCng",
        "outputId": "959fd133-5d54-4cf9-a871-1c0c11e8559d",
        "colab": {
          "base_uri": "https://localhost:8080/"
        }
      },
      "execution_count": 6,
      "outputs": [
        {
          "output_type": "execute_result",
          "data": {
            "text/plain": [
              "697.2"
            ]
          },
          "metadata": {},
          "execution_count": 6
        }
      ]
    },
    {
      "cell_type": "code",
      "source": [
        "len(extinction_traces)\n",
        "14209/15"
      ],
      "metadata": {
        "id": "bJ72CjlRoLOu",
        "outputId": "fbd0a204-9f98-4f3f-a8d0-c3f24b779bd3",
        "colab": {
          "base_uri": "https://localhost:8080/"
        }
      },
      "execution_count": 8,
      "outputs": [
        {
          "output_type": "execute_result",
          "data": {
            "text/plain": [
              "947.2666666666667"
            ]
          },
          "metadata": {},
          "execution_count": 8
        }
      ]
    },
    {
      "cell_type": "code",
      "source": [
        "#In a new Code Cell, make time_conditioning and time_extinction variables, corresponding to time during the conditioning session, \n",
        "#and time during the extinction session, respectively. The sampling rate for the miniscope used to capture these data was 15 fps. \n",
        "#Use this information to make your variables, which should both start at \"0\", end at the total length of the recording session (in seconds), \n",
        "#and have a length equal to the number of samples for each session.\n",
        "time_conditioning = (0,697.2,10458) #10458/15 is the length of the recording session divided by the frames per second to get samples per session\n",
        "time_extinction = (0,947.27,14209)"
      ],
      "metadata": {
        "id": "E2UHryzolNia"
      },
      "execution_count": 7,
      "outputs": []
    },
    {
      "cell_type": "markdown",
      "source": [
        "In a new Markdown Cell, state the number of ROIs (cells) that were imaged during these sessions, and the total length of time, both in seconds, and in minutes, of the conditioning and extinction sessions.\n",
        "\n",
        "There are 63 ROIs because that is the y value when you plug in the shape. The total length of time for time_conditioning was 10458 seconds or 174.3 minutes. The total length of time for time_extinction was 14209 seconds or 236.81667 minutes. "
      ],
      "metadata": {
        "id": "u3kF_ydCq1ga"
      }
    },
    {
      "cell_type": "code",
      "source": [
        "#In a new Code Cell, plot the first and second ROIs (columns) from your conditioning_traces variable in one subplot. \n",
        "#Plot the first and second ROIs from your extinction_traces variable in a second subplot. Make the first ROI blue, and the second ROI red in each subplot. \n",
        "#Put time on the x-axis of both subplots.\n",
        "# Make vertical black lines at shock onset (3 total), and vertical green lines at tone onset (3 total) in your first subplot. Label your axes.\n",
        "\n",
        "fig, ax = plt.subplots(1,2,figsize=(15,5))\n",
        "ax[0].plot(time_conditioning,conditioning_traces[:,1],color = \"b\")\n",
        "ax[0].plot(time_conditioning,conditioning_traces[:,2], color = \"r\")\n",
        "ax[0].plot([358, 358], [0,1], 'k', lw=2) # Make a black line at shock onset\n",
        "ax[0].plot([448, 448], [0,1], 'k', lw=2)\n",
        "ax[0].plot([538, 538], [0,1], 'k', lw=2)\n",
        "extinction_traces = extinction_traces[:10458,:]\n",
        "ax[1].plot(time_conditioning,extinction_traces[:,1],color = \"b\")\n",
        "ax[1].plot(time_conditioning,extinction_traces[:,2], color = \"r\")\n",
        "  \n"
      ],
      "metadata": {
        "id": "CJ6h_l-HsSaQ",
        "outputId": "e059b7fe-f49f-4f0b-fb4a-3ab3bac29e28",
        "colab": {
          "base_uri": "https://localhost:8080/",
          "height": 809
        }
      },
      "execution_count": 22,
      "outputs": [
        {
          "output_type": "error",
          "ename": "ValueError",
          "evalue": "ignored",
          "traceback": [
            "\u001b[0;31m---------------------------------------------------------------------------\u001b[0m",
            "\u001b[0;31mValueError\u001b[0m                                Traceback (most recent call last)",
            "\u001b[0;32m<ipython-input-22-585b066b757f>\u001b[0m in \u001b[0;36m<cell line: 8>\u001b[0;34m()\u001b[0m\n\u001b[1;32m      6\u001b[0m \u001b[0mfig\u001b[0m\u001b[0;34m,\u001b[0m \u001b[0max\u001b[0m \u001b[0;34m=\u001b[0m \u001b[0mplt\u001b[0m\u001b[0;34m.\u001b[0m\u001b[0msubplots\u001b[0m\u001b[0;34m(\u001b[0m\u001b[0;36m1\u001b[0m\u001b[0;34m,\u001b[0m\u001b[0;36m2\u001b[0m\u001b[0;34m,\u001b[0m\u001b[0mfigsize\u001b[0m\u001b[0;34m=\u001b[0m\u001b[0;34m(\u001b[0m\u001b[0;36m15\u001b[0m\u001b[0;34m,\u001b[0m\u001b[0;36m5\u001b[0m\u001b[0;34m)\u001b[0m\u001b[0;34m)\u001b[0m\u001b[0;34m\u001b[0m\u001b[0;34m\u001b[0m\u001b[0m\n\u001b[1;32m      7\u001b[0m \u001b[0;34m\u001b[0m\u001b[0m\n\u001b[0;32m----> 8\u001b[0;31m \u001b[0max\u001b[0m\u001b[0;34m[\u001b[0m\u001b[0;36m0\u001b[0m\u001b[0;34m]\u001b[0m\u001b[0;34m.\u001b[0m\u001b[0mplot\u001b[0m\u001b[0;34m(\u001b[0m\u001b[0mtime_conditioning\u001b[0m\u001b[0;34m,\u001b[0m\u001b[0mconditioning_traces\u001b[0m\u001b[0;34m[\u001b[0m\u001b[0;34m:\u001b[0m\u001b[0;34m,\u001b[0m\u001b[0;36m2\u001b[0m\u001b[0;34m]\u001b[0m\u001b[0;34m,\u001b[0m \u001b[0mcolor\u001b[0m \u001b[0;34m=\u001b[0m \u001b[0;34m\"r\"\u001b[0m\u001b[0;34m)\u001b[0m\u001b[0;34m\u001b[0m\u001b[0;34m\u001b[0m\u001b[0m\n\u001b[0m\u001b[1;32m      9\u001b[0m \u001b[0max\u001b[0m\u001b[0;34m[\u001b[0m\u001b[0;36m0\u001b[0m\u001b[0;34m]\u001b[0m\u001b[0;34m.\u001b[0m\u001b[0mplot\u001b[0m\u001b[0;34m(\u001b[0m\u001b[0;34m[\u001b[0m\u001b[0;36m358\u001b[0m\u001b[0;34m,\u001b[0m \u001b[0;36m358\u001b[0m\u001b[0;34m]\u001b[0m\u001b[0;34m,\u001b[0m \u001b[0;34m[\u001b[0m\u001b[0;36m0\u001b[0m\u001b[0;34m,\u001b[0m\u001b[0;36m1\u001b[0m\u001b[0;34m]\u001b[0m\u001b[0;34m,\u001b[0m \u001b[0;34m'k'\u001b[0m\u001b[0;34m,\u001b[0m \u001b[0mlw\u001b[0m\u001b[0;34m=\u001b[0m\u001b[0;36m2\u001b[0m\u001b[0;34m)\u001b[0m \u001b[0;31m# Make a black line at shock onset\u001b[0m\u001b[0;34m\u001b[0m\u001b[0;34m\u001b[0m\u001b[0m\n\u001b[1;32m     10\u001b[0m \u001b[0max\u001b[0m\u001b[0;34m[\u001b[0m\u001b[0;36m0\u001b[0m\u001b[0;34m]\u001b[0m\u001b[0;34m.\u001b[0m\u001b[0mplot\u001b[0m\u001b[0;34m(\u001b[0m\u001b[0;34m[\u001b[0m\u001b[0;36m448\u001b[0m\u001b[0;34m,\u001b[0m \u001b[0;36m448\u001b[0m\u001b[0;34m]\u001b[0m\u001b[0;34m,\u001b[0m \u001b[0;34m[\u001b[0m\u001b[0;36m0\u001b[0m\u001b[0;34m,\u001b[0m\u001b[0;36m1\u001b[0m\u001b[0;34m]\u001b[0m\u001b[0;34m,\u001b[0m \u001b[0;34m'k'\u001b[0m\u001b[0;34m,\u001b[0m \u001b[0mlw\u001b[0m\u001b[0;34m=\u001b[0m\u001b[0;36m2\u001b[0m\u001b[0;34m)\u001b[0m\u001b[0;34m\u001b[0m\u001b[0;34m\u001b[0m\u001b[0m\n",
            "\u001b[0;32m/usr/local/lib/python3.9/dist-packages/matplotlib/axes/_axes.py\u001b[0m in \u001b[0;36mplot\u001b[0;34m(self, scalex, scaley, data, *args, **kwargs)\u001b[0m\n\u001b[1;32m   1686\u001b[0m         \"\"\"\n\u001b[1;32m   1687\u001b[0m         \u001b[0mkwargs\u001b[0m \u001b[0;34m=\u001b[0m \u001b[0mcbook\u001b[0m\u001b[0;34m.\u001b[0m\u001b[0mnormalize_kwargs\u001b[0m\u001b[0;34m(\u001b[0m\u001b[0mkwargs\u001b[0m\u001b[0;34m,\u001b[0m \u001b[0mmlines\u001b[0m\u001b[0;34m.\u001b[0m\u001b[0mLine2D\u001b[0m\u001b[0;34m)\u001b[0m\u001b[0;34m\u001b[0m\u001b[0;34m\u001b[0m\u001b[0m\n\u001b[0;32m-> 1688\u001b[0;31m         \u001b[0mlines\u001b[0m \u001b[0;34m=\u001b[0m \u001b[0;34m[\u001b[0m\u001b[0;34m*\u001b[0m\u001b[0mself\u001b[0m\u001b[0;34m.\u001b[0m\u001b[0m_get_lines\u001b[0m\u001b[0;34m(\u001b[0m\u001b[0;34m*\u001b[0m\u001b[0margs\u001b[0m\u001b[0;34m,\u001b[0m \u001b[0mdata\u001b[0m\u001b[0;34m=\u001b[0m\u001b[0mdata\u001b[0m\u001b[0;34m,\u001b[0m \u001b[0;34m**\u001b[0m\u001b[0mkwargs\u001b[0m\u001b[0;34m)\u001b[0m\u001b[0;34m]\u001b[0m\u001b[0;34m\u001b[0m\u001b[0;34m\u001b[0m\u001b[0m\n\u001b[0m\u001b[1;32m   1689\u001b[0m         \u001b[0;32mfor\u001b[0m \u001b[0mline\u001b[0m \u001b[0;32min\u001b[0m \u001b[0mlines\u001b[0m\u001b[0;34m:\u001b[0m\u001b[0;34m\u001b[0m\u001b[0;34m\u001b[0m\u001b[0m\n\u001b[1;32m   1690\u001b[0m             \u001b[0mself\u001b[0m\u001b[0;34m.\u001b[0m\u001b[0madd_line\u001b[0m\u001b[0;34m(\u001b[0m\u001b[0mline\u001b[0m\u001b[0;34m)\u001b[0m\u001b[0;34m\u001b[0m\u001b[0;34m\u001b[0m\u001b[0m\n",
            "\u001b[0;32m/usr/local/lib/python3.9/dist-packages/matplotlib/axes/_base.py\u001b[0m in \u001b[0;36m__call__\u001b[0;34m(self, data, *args, **kwargs)\u001b[0m\n\u001b[1;32m    309\u001b[0m                 \u001b[0mthis\u001b[0m \u001b[0;34m+=\u001b[0m \u001b[0margs\u001b[0m\u001b[0;34m[\u001b[0m\u001b[0;36m0\u001b[0m\u001b[0;34m]\u001b[0m\u001b[0;34m,\u001b[0m\u001b[0;34m\u001b[0m\u001b[0;34m\u001b[0m\u001b[0m\n\u001b[1;32m    310\u001b[0m                 \u001b[0margs\u001b[0m \u001b[0;34m=\u001b[0m \u001b[0margs\u001b[0m\u001b[0;34m[\u001b[0m\u001b[0;36m1\u001b[0m\u001b[0;34m:\u001b[0m\u001b[0;34m]\u001b[0m\u001b[0;34m\u001b[0m\u001b[0;34m\u001b[0m\u001b[0m\n\u001b[0;32m--> 311\u001b[0;31m             yield from self._plot_args(\n\u001b[0m\u001b[1;32m    312\u001b[0m                 this, kwargs, ambiguous_fmt_datakey=ambiguous_fmt_datakey)\n\u001b[1;32m    313\u001b[0m \u001b[0;34m\u001b[0m\u001b[0m\n",
            "\u001b[0;32m/usr/local/lib/python3.9/dist-packages/matplotlib/axes/_base.py\u001b[0m in \u001b[0;36m_plot_args\u001b[0;34m(self, tup, kwargs, return_kwargs, ambiguous_fmt_datakey)\u001b[0m\n\u001b[1;32m    502\u001b[0m \u001b[0;34m\u001b[0m\u001b[0m\n\u001b[1;32m    503\u001b[0m         \u001b[0;32mif\u001b[0m \u001b[0mx\u001b[0m\u001b[0;34m.\u001b[0m\u001b[0mshape\u001b[0m\u001b[0;34m[\u001b[0m\u001b[0;36m0\u001b[0m\u001b[0;34m]\u001b[0m \u001b[0;34m!=\u001b[0m \u001b[0my\u001b[0m\u001b[0;34m.\u001b[0m\u001b[0mshape\u001b[0m\u001b[0;34m[\u001b[0m\u001b[0;36m0\u001b[0m\u001b[0;34m]\u001b[0m\u001b[0;34m:\u001b[0m\u001b[0;34m\u001b[0m\u001b[0;34m\u001b[0m\u001b[0m\n\u001b[0;32m--> 504\u001b[0;31m             raise ValueError(f\"x and y must have same first dimension, but \"\n\u001b[0m\u001b[1;32m    505\u001b[0m                              f\"have shapes {x.shape} and {y.shape}\")\n\u001b[1;32m    506\u001b[0m         \u001b[0;32mif\u001b[0m \u001b[0mx\u001b[0m\u001b[0;34m.\u001b[0m\u001b[0mndim\u001b[0m \u001b[0;34m>\u001b[0m \u001b[0;36m2\u001b[0m \u001b[0;32mor\u001b[0m \u001b[0my\u001b[0m\u001b[0;34m.\u001b[0m\u001b[0mndim\u001b[0m \u001b[0;34m>\u001b[0m \u001b[0;36m2\u001b[0m\u001b[0;34m:\u001b[0m\u001b[0;34m\u001b[0m\u001b[0;34m\u001b[0m\u001b[0m\n",
            "\u001b[0;31mValueError\u001b[0m: x and y must have same first dimension, but have shapes (3,) and (10458,)"
          ]
        },
        {
          "output_type": "display_data",
          "data": {
            "text/plain": [
              "<Figure size 1500x500 with 2 Axes>"
            ],
            "image/png": "[encoded data removed]"
          },
          "metadata": {}
        }
      ]
    }
  ]
}