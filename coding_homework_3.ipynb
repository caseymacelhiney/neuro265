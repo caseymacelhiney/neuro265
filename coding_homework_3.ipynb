{
  "nbformat": 4,
  "nbformat_minor": 0,
  "metadata": {
    "colab": {
      "provenance": [],
      "include_colab_link": true
    },
    "kernelspec": {
      "name": "python3",
      "display_name": "Python 3"
    },
    "language_info": {
      "name": "python"
    }
  },
  "cells": [
    {
      "cell_type": "markdown",
      "metadata": {
        "id": "view-in-github",
        "colab_type": "text"
      },
      "source": [
        "<a href=\"https://colab.research.google.com/github/caseymacelhiney/neuro265/blob/main/coding_homework_3.ipynb\" target=\"_parent\"><img src=\"https://colab.research.google.com/assets/colab-badge.svg\" alt=\"Open In Colab\"/></a>"
      ]
    },
    {
      "cell_type": "markdown",
      "source": [
        "# Coding Homework #3\n",
        "\n",
        "**Instructions**\n",
        "\n",
        "1. Make a *Markdown Cell* that contains the following information:\n",
        "- Your name (small header)\n",
        "- The name of this class (italicized)\n",
        "- The date (bolded)\n",
        "\n",
        "2. Make a *Code Cell* that imports <code>numpy</code> as <code>np</code>, <code>matplotlib.pyplot</code> as <code>plt</code>, and <code>scipy.stats</code> as <code>stats</code>.\n",
        "\n",
        "3. Make a *Code Cell* that imports your <code>v_rest1.csv</code> and <code>v_rest2.csv</code> variables as <code>numpy</code> arrays called <code>v_rest1</code> and <code>v_rest2</code> respectively.\n",
        "\n",
        "4. Make a *Code Cell* that does the following:\n",
        "  \n",
        "  a. Finds the means of <code>v_rest1</code> and <code>v_rest2</code>.\n",
        "  \n",
        "  b. Performs a t-test to test the null hypothesis that the means of <code>v_rest1</code> and <code>v_rest2</code> come from different distributions.\n",
        "\n",
        "  c. Plots a histogram of <code>v_rest1</code> in one subplot, and a histogram of <code>v_rest2</code> in another subplot if the p-value of the t-test is > 0.05. You can make two subplots using the syntax <code>fig, ax = plt.subplots(1,1)</code>.\n",
        "\n",
        "  d. Labels the y-axis and x-axis of your histograms (recall that <code>ax.ylabel</code> and <code>ax.xlabel</code> are the methods that let you accomplish this).\n",
        "\n",
        "5. Make a *Code Cell* that defines a function called <code>vrestHist()</code>. This function should execute the code in step 4 when called. Remember to tell python that you want the function to show your plots when you call it!\n",
        "\n",
        "6. Make a *Code Cell* that calls <code>vrestHist()</code>.\n",
        "\n",
        "7. Make a *Code Cell* that does the following:\n",
        "\n",
        "    a. Loops through each column of <code>v_rest1</code> and <code>v_rest2</code> and makes a scatter plot with <code>v_rest1</code> on the x-axis and <code>v_rest2</code> on the y-axis. \n",
        "\n",
        "    b. Each iteration of your loop should plot a different point on the scatter plot. At the end of your loop, you should have only one scatter plot with number of data points equal to the length of <code>v_rest1</code> and <code>v_rest2</code>.\n",
        "\n",
        "    c. Your loop should plot a <font color = 'red'>red</font> dot if *both* values in <code>v_rest1</code> and <code>v_rest2</code> are greater than -60, a <font color = 'green'>green</font> dot if values in <code>v_rest1</code> are greater than -60, but values in <code>v_rest2</code> are less than -60, and a <font color = 'blue'>blue</font> dot if *both* values in <code>v_rest1</code> and <code>v_rest2</code> are less than -60. \n",
        "\n",
        "    d. Labels your y-axis and your x-axis (this code should be outside of your loop).\n",
        "\n",
        "8. Make a *Code Cell* that defines a function called <code>vrestScatter()</code>. This function should execute the code in step 7 when called. Remember to tell python that you want the function to show your plot when you call it!\n",
        "\n",
        "9. Save a copy of this notebook to your GitHub repo with the title \"coding_homework_3.ipynb\"."
      ],
      "metadata": {
        "id": "zbzMCJlMN3ph"
      }
    },
    {
      "cell_type": "markdown",
      "source": [
        "#Casey MacElhiney\n",
        "_Intro to Neural Data Analysis_\n",
        "\n",
        "__March 2, 2023__"
      ],
      "metadata": {
        "id": "0ySt4vaG0TAk"
      }
    },
    {
      "cell_type": "code",
      "source": [
        "#2 Make a Code Cell that imports numpy as np, matplotlib.pyplot as plt, and scipy.stats as stats.\n",
        "import numpy as np\n",
        "import matplotlib.pyplot as plt\n",
        "import scipy.stats as stats"
      ],
      "metadata": {
        "id": "8oFqrudV04xy"
      },
      "execution_count": 13,
      "outputs": []
    },
    {
      "cell_type": "code",
      "source": [
        "#3 Make a Code Cell that imports your v_rest1.csv and v_rest2.csv variables as numpy arrays called v_rest1 and v_rest2 respectively. \n",
        "url1 = 'https://raw.githubusercontent.com/caseymacelhiney/neuro265/main/vrest_1.csv'\n",
        "cell_types = np.loadtxt(url1)\n",
        "v_rest1 = np.loadtxt(url1)\n",
        "url2 = 'https://raw.githubusercontent.com/caseymacelhiney/neuro265/main/vrest_2.csv'\n",
        "cell_types = np.loadtxt(url2)\n",
        "v_rest2 = np.loadtxt(url2)"
      ],
      "metadata": {
        "id": "myzYQaZm3Li7"
      },
      "execution_count": 14,
      "outputs": []
    },
    {
      "cell_type": "code",
      "source": [
        "#4 Finds the means of v_rest1 and v_rest2.\n",
        "#Performs a t-test to test the null hypothesis that the means of v_rest1 and v_rest2 come from different distributions.\n",
        "#Plots a histogram of v_rest1 in one subplot, and a histogram of v_rest2 in another subplot if the p-value of the t-test is > 0.05.\n",
        "# You can make two subplots using the syntax fig, ax = plt.subplots(1,1)\n",
        "#Labels the y-axis and x-axis of your histograms (recall that ax.ylabel and ax.xlabel are the methods that let you accomplish this).\n",
        "np.mean(v_rest1)\n",
        "np.mean(v_rest2)\n",
        "\n",
        "pop_1 = np.mean(v_rest1)\n",
        "pop_2 = np.mean(v_rest2)\n",
        "\n",
        "stats.ttest_ind(pop_1,pop_2)\n",
        "plt.xlabel('membrane potential')\n",
        "plt.ylabel('counts')\n",
        "plt.hist(v_rest1)\n",
        "ax = plt.subplots(1,1)\n",
        "skew = stats.skewtest(v_rest2)\n",
        "if skew.pvalue > 0.05:\n",
        "  plt.hist(v_rest2)\n",
        "  plt.xlabel('membrane potential')\n",
        "  plt.ylabel('counts')"
      ],
      "metadata": {
        "id": "uZW9Cjpc3dGB",
        "outputId": "79dfa8d5-d8ab-45cc-9886-cc93c86f3395",
        "colab": {
          "base_uri": "https://localhost:8080/",
          "height": 663
        }
      },
      "execution_count": 17,
      "outputs": [
        {
          "output_type": "stream",
          "name": "stderr",
          "text": [
            "<ipython-input-17-66f365769f3a>:12: RuntimeWarning: Precision loss occurred in moment calculation due to catastrophic cancellation. This occurs when the data are nearly identical. Results may be unreliable.\n",
            "  stats.ttest_ind(pop_1,pop_2)\n",
            "/usr/local/lib/python3.8/dist-packages/scipy/stats/_stats_py.py:1214: RuntimeWarning: divide by zero encountered in true_divide\n",
            "  var *= np.divide(n, n-ddof)  # to avoid error on division by zero\n",
            "/usr/local/lib/python3.8/dist-packages/scipy/stats/_stats_py.py:1214: RuntimeWarning: invalid value encountered in double_scalars\n",
            "  var *= np.divide(n, n-ddof)  # to avoid error on division by zero\n"
          ]
        },
        {
          "output_type": "display_data",
          "data": {
            "text/plain": [
              "<Figure size 432x288 with 1 Axes>"
            ],
            "image/png": "[encoded data removed]"
          },
          "metadata": {
            "needs_background": "light"
          }
        },
        {
          "output_type": "display_data",
          "data": {
            "text/plain": [
              "<Figure size 432x288 with 1 Axes>"
            ],
            "image/png": "[encoded data removed]"
          },
          "metadata": {
            "needs_background": "light"
          }
        }
      ]
    },
    {
      "cell_type": "code",
      "source": [
        "#5 Make a Code Cell that defines a function called vrestHist(). This function should execute the code in step 4 when called. \n",
        "#Remember to tell python that you want the function to show your plots when you call it!\n",
        "def vrestHist():\n",
        "  np.mean(v_rest1)\n",
        "  np.mean(v_rest2)\n",
        "\n",
        "  pop_1 = np.mean(v_rest1)\n",
        "  pop_2 = np.mean(v_rest2)\n",
        "\n",
        "  stats.ttest_ind(pop_1,pop_2)\n",
        "  plt.xlabel('membrane potential')\n",
        "  plt.ylabel('counts')\n",
        "  plt.hist(v_rest1)\n",
        "  ax = plt.subplots(1,1)\n",
        "  skew = stats.skewtest(v_rest2)\n",
        "  if skew.pvalue > 0.05:\n",
        "    plt.hist(v_rest2)\n",
        "    plt.xlabel('membrane potential')\n",
        "    plt.ylabel('counts')"
      ],
      "metadata": {
        "id": "Cv7PK_EoFNy1"
      },
      "execution_count": 18,
      "outputs": []
    },
    {
      "cell_type": "code",
      "source": [
        "#6 Make a Code Cell that calls vrestHist().\n",
        "vrestHist()"
      ],
      "metadata": {
        "id": "lqRTEWp1ML_v",
        "outputId": "e85a1515-d8d4-49b2-a515-dd7bb806892a",
        "colab": {
          "base_uri": "https://localhost:8080/",
          "height": 595
        }
      },
      "execution_count": 19,
      "outputs": [
        {
          "output_type": "stream",
          "name": "stderr",
          "text": [
            "<ipython-input-18-4d03d7ab5c8b>:10: RuntimeWarning: Precision loss occurred in moment calculation due to catastrophic cancellation. This occurs when the data are nearly identical. Results may be unreliable.\n",
            "  stats.ttest_ind(pop_1,pop_2)\n"
          ]
        },
        {
          "output_type": "display_data",
          "data": {
            "text/plain": [
              "<Figure size 432x288 with 1 Axes>"
            ],
            "image/png": "[encoded data removed]"
          },
          "metadata": {
            "needs_background": "light"
          }
        },
        {
          "output_type": "display_data",
          "data": {
            "text/plain": [
              "<Figure size 432x288 with 1 Axes>"
            ],
            "image/png": "[encoded data removed]"
          },
          "metadata": {
            "needs_background": "light"
          }
        }
      ]
    },
    {
      "cell_type": "code",
      "source": [
        "#7 Loops through each column of v_rest1 and v_rest2 and makes a scatter plot with v_rest1 on the x-axis and v_rest2 on the y-axis.\n",
        "#Each iteration of your loop should plot a different point on the scatter plot. \n",
        "#At the end of your loop, you should have only one scatter plot with number of data points equal to the length of v_rest1 and v_rest2.\n",
        "#Your loop should plot a red dot if both values in v_rest1 and v_rest2 are greater than -60, \n",
        "#a green dot if values in v_rest1 are greater than -60, but values in v_rest2 are less than -60, \n",
        "#and a blue dot if both values in v_rest1 and v_rest2 are less than -60.\n",
        "# Labels your y-axis and your x-axis (this code should be outside of your loop).\n",
        "v_rest1_len = len(v_rest1)\n",
        "v_rest2_len = len(v_rest2)\n",
        "\n",
        "for i in range(v_rest1_len):\n",
        "  if v_rest1[i] > -60 and v_rest2[i] > -60:\n",
        "    plt.scatter(v_rest1[i],v_rest2[i], color = 'red' )\n",
        "  elif v_rest1[i] > -60 and v_rest2[i] < -60:\n",
        "    plt.scatter(v_rest1[i],v_rest2[i], color = 'green' )\n",
        "  elif v_rest1[i] < -60 and v_rest2[i] < -60:\n",
        "    plt.scatter(v_rest1[i],v_rest2[i], color = 'blue' )\n",
        "\n",
        "plt.xlabel('resting membrane potential of v_rest1')\n",
        "plt.ylabel('resting membrane potential of v_rest2')"
      ],
      "metadata": {
        "id": "Q1C43e6xMSqJ",
        "outputId": "2a486144-a7b5-44c9-eb15-250779147043",
        "colab": {
          "base_uri": "https://localhost:8080/",
          "height": 297
        }
      },
      "execution_count": 20,
      "outputs": [
        {
          "output_type": "execute_result",
          "data": {
            "text/plain": [
              "Text(0, 0.5, 'resting membrane potential of v_rest2')"
            ]
          },
          "metadata": {},
          "execution_count": 20
        },
        {
          "output_type": "display_data",
          "data": {
            "text/plain": [
              "<Figure size 432x288 with 1 Axes>"
            ],
            "image/png": "[encoded data removed]"
          },
          "metadata": {
            "needs_background": "light"
          }
        }
      ]
    },
    {
      "cell_type": "code",
      "source": [
        "#8 Make a Code Cell that defines a function called vrestScatter(). \n",
        "#This function should execute the code in step 7 when called. Remember to tell python that you want the function to show your plot when you call it!\n",
        "def vrestScatter():\n",
        "  v_rest1_len = len(v_rest1)\n",
        "  v_rest2_len = len(v_rest2)\n",
        "\n",
        "  for i in range(v_rest1_len):\n",
        "    if v_rest1[i] > -60 and v_rest2[i] > -60:\n",
        "      plt.scatter(v_rest1[i],v_rest2[i], color = 'red' )\n",
        "    elif v_rest1[i] > -60 and v_rest2[i] < -60:\n",
        "      plt.scatter(v_rest1[i],v_rest2[i], color = 'green' )\n",
        "    elif v_rest1[i] < -60 and v_rest2[i] < -60:\n",
        "      plt.scatter(v_rest1[i],v_rest2[i], color = 'blue' )\n",
        "\n",
        "  plt.xlabel('resting membrane potential of v_rest1')\n",
        "  plt.ylabel('resting membrane potential of v_rest2')"
      ],
      "metadata": {
        "id": "5daNsnV_NKaA"
      },
      "execution_count": 21,
      "outputs": []
    },
    {
      "cell_type": "code",
      "source": [
        "#9 Call vrestScatter()\n",
        "vrestScatter()"
      ],
      "metadata": {
        "id": "a5W7K-81NhMD",
        "outputId": "2511313d-0ec8-4062-e141-bf63eb03f93f",
        "colab": {
          "base_uri": "https://localhost:8080/",
          "height": 280
        }
      },
      "execution_count": 22,
      "outputs": [
        {
          "output_type": "display_data",
          "data": {
            "text/plain": [
              "<Figure size 432x288 with 1 Axes>"
            ],
            "image/png": "[encoded data removed]"
          },
          "metadata": {
            "needs_background": "light"
          }
        }
      ]
    }
  ]
}