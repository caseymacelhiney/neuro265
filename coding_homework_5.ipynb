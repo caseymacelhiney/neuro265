{
  "nbformat": 4,
  "nbformat_minor": 0,
  "metadata": {
    "colab": {
      "provenance": [],
      "include_colab_link": true
    },
    "kernelspec": {
      "name": "python3",
      "display_name": "Python 3"
    },
    "language_info": {
      "name": "python"
    }
  },
  "cells": [
    {
      "cell_type": "markdown",
      "metadata": {
        "id": "view-in-github",
        "colab_type": "text"
      },
      "source": [
        "<a href=\"https://colab.research.google.com/github/caseymacelhiney/neuro265/blob/main/coding_homework_5.ipynb\" target=\"_parent\"><img src=\"https://colab.research.google.com/assets/colab-badge.svg\" alt=\"Open In Colab\"/></a>"
      ]
    },
    {
      "cell_type": "markdown",
      "source": [
        "# Coding Homework #5\n",
        "\n",
        "**Instructions**\n",
        "\n",
        "1. Make a *Markdown Cell* that contains the following information:\n",
        "- Your name (small header)\n",
        "- The name of this class (italicized)\n",
        "- The date (bolded)\n",
        "\n",
        "2. Create a *Code Cell* that imports relevant modules - specifically, <code>numpy as np</code>, and <code>matplotlib.pyplot as plt</code>.\n",
        "\n",
        "3. For this assignment, you will be working with the <code>acc_hits_hw5.csv</code> and <code>acc_fa_hw5.csv</code> files in our shared Google Drive folder. Create a *Code Cell* that imports these files as <code>numpy</code> arrays called <code>acc_hits</code> and <code>acc_fa</code>, respectively. To do this, you should upload each file to your personal GitHub repo.\n",
        "\n",
        "4. Create a *Code Cell* that prints the <code>shape</code> of each array. \n",
        "\n",
        "5. Both your <code>acc_hits</code> and <code>acc_fa</code> arrays consist of LFP data recorded from the mouse anterior cingulate cortex. Rows of these arrays correspond to separate trials, and columns correspond to samples (timepoints). The task that the mouse was performing is called the **continuous performance test**. This test measures sustained attention. Specifically, the mouse is shaped to respond to a stimulus on a touchscreen. The mouse is rewarded (receives some strawberry milkshake) when it responds to one type of stimulus. This stimulus is called the S+ (it usually looks like horizontal or vertical black and white bars). When the mouse responds to this stimulus, we call that response a **hit**. Your <code>acc_hits</code> variable contains LFP surrounding these hits. In contrast, when the mouse is presented with another stimulus (the S-, which usually looks like a snowflake), it is not supposed to respond. When it does respond, we call that a **false alarm**. Your <code>acc_fa</code> variable contains LFP surrounding these false alarms. So, you have two arrays - one array with LFP recorded during correct choices (hits), and one array with LFP recorded during incorrect choices (false alarms).\n",
        "\n",
        "6. In a new *Code Cell*, create variable called <code>time</code> that has the same length as <code>acc_hits</code> and <code>acc_fa</code>, with equally spaced values between \"zero\" and \"four\" (the length of each trial, in seconds). \n",
        "\n",
        "7. In a new *Code Cell*, create an expression to determine the sampling rate of the data using the knowledge that you have 8001 samples, and the total length of each sample is 4 seconds.\n",
        "\n",
        "8. In a new *Code Cell*, plot the first trial of <code>acc_hits</code> in one subplot, and the first trial of <code>acc_fa</code> in another subplot. Plot your <code>time</code> variable on the x-axis. Label your axes.\n",
        "\n",
        "9. In a new *Markdown Cell*, describe what you think the dominant oscillation (in Hz) in the LFP might be. Does this differ between the first trial of <code>acc_hits</code> and the first trial of <code>acc_fa</code>? \n",
        "\n",
        "10. We want to have some way to compare LFPs between the two conditions (hits and false alarms). One way to do this might be to compute an event-related potential (ERP) to see if there are structural changes surrounding screen touch for either of the two conditions. In a new *Code Cell*, calculate and plot the ERP for <code>acc_hits</code>. Put <code>time</code> on the x-axis. Put a vertical black line at the \"two\" position on the x-axis (the screen touch occurred 2 seconds into the sample on each trial). Put a horizontal black line at the \"zero\" position on the y-axis. Label your axes.\n",
        "\n",
        "11. In a new *Markdown Cell*, interpret your ERP for hits. Do you see any evidence of consistent activity in the LFP surrounding screen touch (vertical black bar)? \n",
        "\n",
        "12. Repeat step 10 for <code>acc_fa</code>. Plot your ERP for <code>acc_fa</code> and your ERP for <code>acc_hits</code> in one plot, with <code>time</code> on the x-axis. Make a vertical and horizontal black bar on your plot (as outlined in step 10), and label your axes. \n",
        "\n",
        "13. In a new *Markdown Cell*, interpret your plot from step 12. Are there any differences in the ERPs between hits and false alarms? \n",
        "\n",
        "14. Make sure to put a <code>#</code> in each *Code Cell* to describe what it does.\n",
        "\n",
        "15. Save a copy of this notebook to your GitHub repo with the title <code>coding_homework_5.ipynb</code>."
      ],
      "metadata": {
        "id": "GOqJl3UDb8jz"
      }
    },
    {
      "cell_type": "markdown",
      "source": [
        "#Casey MacElhiney#\n",
        "_Intro to Neural Data Anaylsis_\n",
        "\n",
        "__March 30, 2023__"
      ],
      "metadata": {
        "id": "XKvaWT_m11xH"
      }
    },
    {
      "cell_type": "code",
      "source": [
        "# 2 Create a Code Cell that imports relevant modules - specifically, numpy as np, and matplotlib.pyplot as plt.\n",
        "import numpy as np\n",
        "import matplotlib.pyplot as plt"
      ],
      "metadata": {
        "id": "GIlnuRlD2L9d"
      },
      "execution_count": 1,
      "outputs": []
    },
    {
      "cell_type": "code",
      "source": [
        "#For this assignment, you will be working with the acc_hits_hw5.csv and acc_fa_hw5.csv files in our shared Google Drive folder. \n",
        "#Create a Code Cell that imports these files as numpy arrays called acc_hits and acc_fa, respectively.\n",
        "url1 =  'https://raw.githubusercontent.com/caseymacelhiney/neuro265/main/acc_fa_hw5.csv'\n",
        "acc_fa = np.loadtxt(url1, delimiter=\",\")\n",
        "url2 = 'https://raw.githubusercontent.com/caseymacelhiney/neuro265/main/acc_hits_hw5.csv'\n",
        "acc_hits = np.loadtxt(url2, delimiter=\",\")"
      ],
      "metadata": {
        "id": "Ke_je9DJ2sJM"
      },
      "execution_count": 4,
      "outputs": []
    },
    {
      "cell_type": "code",
      "source": [
        "#Create a Code Cell that prints the shape acc_fa.\n",
        "np.shape(acc_fa)"
      ],
      "metadata": {
        "colab": {
          "base_uri": "https://localhost:8080/"
        },
        "id": "tZlt3IuA7Je4",
        "outputId": "7f721894-9cc9-484d-8a24-581ad94704a0"
      },
      "execution_count": 8,
      "outputs": [
        {
          "output_type": "execute_result",
          "data": {
            "text/plain": [
              "(19, 8001)"
            ]
          },
          "metadata": {},
          "execution_count": 8
        }
      ]
    },
    {
      "cell_type": "code",
      "source": [
        "#Create a Code Cell that prints the shape acc_hits.\n",
        "np.shape(acc_hits)"
      ],
      "metadata": {
        "colab": {
          "base_uri": "https://localhost:8080/"
        },
        "id": "R9-TU_g07khj",
        "outputId": "baec9fb4-c998-4183-bed6-36d615411e1c"
      },
      "execution_count": 9,
      "outputs": [
        {
          "output_type": "execute_result",
          "data": {
            "text/plain": [
              "(24, 8001)"
            ]
          },
          "metadata": {},
          "execution_count": 9
        }
      ]
    },
    {
      "cell_type": "code",
      "source": [
        "#In a new Code Cell, create variable called time that has the same length as acc_hits and acc_fa, \n",
        "#with equally spaced values between \"zero\" and \"four\" (the length of each trial, in seconds)\n",
        "time = np.linspace(0,4,8001)"
      ],
      "metadata": {
        "id": "5cBQ0HSL7r-A"
      },
      "execution_count": 10,
      "outputs": []
    },
    {
      "cell_type": "code",
      "source": [
        "#In a new Code Cell, create an expression to determine the sampling rate of the \n",
        "#data using the knowledge that you have 8001 samples, and the total length of each sample is 4 seconds.\n",
        "hz = np.size(/time[-1])"
      ],
      "metadata": {
        "id": "eVCroiT_8lS9"
      },
      "execution_count": null,
      "outputs": []
    }
  ]
}