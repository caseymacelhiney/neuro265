{
  "nbformat": 4,
  "nbformat_minor": 0,
  "metadata": {
    "colab": {
      "provenance": [],
      "include_colab_link": true
    },
    "kernelspec": {
      "name": "python3",
      "display_name": "Python 3"
    },
    "language_info": {
      "name": "python"
    }
  },
  "cells": [
    {
      "cell_type": "markdown",
      "metadata": {
        "id": "view-in-github",
        "colab_type": "text"
      },
      "source": [
        "<a href=\"https://colab.research.google.com/github/caseymacelhiney/neuro265/blob/main/01_30_23.ipynb\" target=\"_parent\"><img src=\"https://colab.research.google.com/assets/colab-badge.svg\" alt=\"Open In Colab\"/></a>"
      ]
    },
    {
      "cell_type": "markdown",
      "source": [
        "# Looking at cell types!\n",
        "\n",
        "Here, we have some data from the Allen Brain Institute (alleninstitute.org)\n",
        "\n",
        "The Allen Brain Institute curates large datasets containing information about many different brain attributes\n",
        "\n",
        "These datasets can be accessed at <i><u>portal.brain-map.org</i></u>\n",
        "\n",
        "<b>Task:</b> Go the the ABI data portal and click on the tab that says \"explore mouse patch-seq data\". Click on the *down* arrow next to \"Mouse PatchSeq VIS | Specimens\", and click on \"Summary\". Create a new *Markdown Cell* below and type, in your own words, what you think the advantage of Patch-seq is after reading the project description.\n"
      ],
      "metadata": {
        "id": "oOuk-2a_VgGC"
      }
    },
    {
      "cell_type": "markdown",
      "source": [
        "The advantage of Patch-seq is to simultaneously obtain the electropysiological, morphological, and transcriptomic features of cells."
      ],
      "metadata": {
        "id": "T4HjqmlQX9to"
      }
    },
    {
      "cell_type": "markdown",
      "source": [
        "Now, we're going to load some data from the patch-seq dataset. To do this, we first need to import a package called `pandas`. `Pandas` lets you create objects called `DataFrames` - these objects let you organize your data like you would in an Excel spreadsheet. \n",
        "\n",
        "\n"
      ],
      "metadata": {
        "id": "jp8PrtQKJ2ew"
      }
    },
    {
      "cell_type": "code",
      "source": [
        "# Run this code to install pandas\n",
        "try:\n",
        "    import pandas as pd\n",
        "    print('pandas already installed')\n",
        "except ImportError as e:\n",
        "    !pip install pandas  "
      ],
      "metadata": {
        "id": "36S6cX4vLvRl",
        "outputId": "3ab7dba0-57c3-4827-98b6-f54271c347c8",
        "colab": {
          "base_uri": "https://localhost:8080/"
        }
      },
      "execution_count": null,
      "outputs": [
        {
          "output_type": "stream",
          "name": "stdout",
          "text": [
            "pandas already installed\n"
          ]
        }
      ]
    },
    {
      "cell_type": "markdown",
      "source": [
        "Now, we're going to import our patch-seq data from the `.csv` file located in our GitHub repository. A `.csv` file works much like an Excel spreadsheet, and is often used by data scientists to organize their data prior to working with it in programming languages like python. "
      ],
      "metadata": {
        "id": "uk2zruIjL_KH"
      }
    },
    {
      "cell_type": "code",
      "source": [
        "# Before you run this cell, click on the .csv file in your respository, and then click on \"View Raw\"\n",
        "# Copy the link to the raw dataset and store it as a string variable called url\n",
        "\n",
        "url = 'https://raw.githubusercontent.com/hallockh/neur_265/main/patch_seq.csv'\n",
        "cell_types = pd.read_csv(url)\n",
        "cell_types"
      ],
      "metadata": {
        "id": "KDDoaCcuMa12",
        "outputId": "124550ef-cda5-44cc-c8ac-f28b3dccde90",
        "colab": {
          "base_uri": "https://localhost:8080/",
          "height": 419
        }
      },
      "execution_count": null,
      "outputs": [
        {
          "output_type": "execute_result",
          "data": {
            "text/plain": [
              "    Marker        ISI\n",
              "0      Sst  77.337143\n",
              "1      Sst  44.145000\n",
              "2      Sst   7.840000\n",
              "3      Sst  73.090000\n",
              "4      Sst  63.513333\n",
              "..     ...        ...\n",
              "135  Pvalb  10.762273\n",
              "136  Pvalb  18.110588\n",
              "137  Pvalb  10.169565\n",
              "138  Pvalb  12.216667\n",
              "139  Pvalb  22.526667\n",
              "\n",
              "[140 rows x 2 columns]"
            ],
            "text/html": [
              "\n",
              "  <div id=\"df-be7032c6-004d-4c6e-b784-0aace25d4b73\">\n",
              "    <div class=\"colab-df-container\">\n",
              "      <div>\n",
              "<style scoped>\n",
              "    .dataframe tbody tr th:only-of-type {\n",
              "        vertical-align: middle;\n",
              "    }\n",
              "\n",
              "    .dataframe tbody tr th {\n",
              "        vertical-align: top;\n",
              "    }\n",
              "\n",
              "    .dataframe thead th {\n",
              "        text-align: right;\n",
              "    }\n",
              "</style>\n",
              "<table border=\"1\" class=\"dataframe\">\n",
              "  <thead>\n",
              "    <tr style=\"text-align: right;\">\n",
              "      <th></th>\n",
              "      <th>Marker</th>\n",
              "      <th>ISI</th>\n",
              "    </tr>\n",
              "  </thead>\n",
              "  <tbody>\n",
              "    <tr>\n",
              "      <th>0</th>\n",
              "      <td>Sst</td>\n",
              "      <td>77.337143</td>\n",
              "    </tr>\n",
              "    <tr>\n",
              "      <th>1</th>\n",
              "      <td>Sst</td>\n",
              "      <td>44.145000</td>\n",
              "    </tr>\n",
              "    <tr>\n",
              "      <th>2</th>\n",
              "      <td>Sst</td>\n",
              "      <td>7.840000</td>\n",
              "    </tr>\n",
              "    <tr>\n",
              "      <th>3</th>\n",
              "      <td>Sst</td>\n",
              "      <td>73.090000</td>\n",
              "    </tr>\n",
              "    <tr>\n",
              "      <th>4</th>\n",
              "      <td>Sst</td>\n",
              "      <td>63.513333</td>\n",
              "    </tr>\n",
              "    <tr>\n",
              "      <th>...</th>\n",
              "      <td>...</td>\n",
              "      <td>...</td>\n",
              "    </tr>\n",
              "    <tr>\n",
              "      <th>135</th>\n",
              "      <td>Pvalb</td>\n",
              "      <td>10.762273</td>\n",
              "    </tr>\n",
              "    <tr>\n",
              "      <th>136</th>\n",
              "      <td>Pvalb</td>\n",
              "      <td>18.110588</td>\n",
              "    </tr>\n",
              "    <tr>\n",
              "      <th>137</th>\n",
              "      <td>Pvalb</td>\n",
              "      <td>10.169565</td>\n",
              "    </tr>\n",
              "    <tr>\n",
              "      <th>138</th>\n",
              "      <td>Pvalb</td>\n",
              "      <td>12.216667</td>\n",
              "    </tr>\n",
              "    <tr>\n",
              "      <th>139</th>\n",
              "      <td>Pvalb</td>\n",
              "      <td>22.526667</td>\n",
              "    </tr>\n",
              "  </tbody>\n",
              "</table>\n",
              "<p>140 rows × 2 columns</p>\n",
              "</div>\n",
              "      <button class=\"colab-df-convert\" onclick=\"convertToInteractive('df-be7032c6-004d-4c6e-b784-0aace25d4b73')\"\n",
              "              title=\"Convert this dataframe to an interactive table.\"\n",
              "              style=\"display:none;\">\n",
              "        \n",
              "  <svg xmlns=\"http://www.w3.org/2000/svg\" height=\"24px\"viewBox=\"0 0 24 24\"\n",
              "       width=\"24px\">\n",
              "    <path d=\"M0 0h24v24H0V0z\" fill=\"none\"/>\n",
              "    <path d=\"M18.56 5.44l.94 2.06.94-2.06 2.06-.94-2.06-.94-.94-2.06-.94 2.06-2.06.94zm-11 1L8.5 8.5l.94-2.06 2.06-.94-2.06-.94L8.5 2.5l-.94 2.06-2.06.94zm10 10l.94 2.06.94-2.06 2.06-.94-2.06-.94-.94-2.06-.94 2.06-2.06.94z\"/><path d=\"M17.41 7.96l-1.37-1.37c-.4-.4-.92-.59-1.43-.59-.52 0-1.04.2-1.43.59L10.3 9.45l-7.72 7.72c-.78.78-.78 2.05 0 2.83L4 21.41c.39.39.9.59 1.41.59.51 0 1.02-.2 1.41-.59l7.78-7.78 2.81-2.81c.8-.78.8-2.07 0-2.86zM5.41 20L4 18.59l7.72-7.72 1.47 1.35L5.41 20z\"/>\n",
              "  </svg>\n",
              "      </button>\n",
              "      \n",
              "  <style>\n",
              "    .colab-df-container {\n",
              "      display:flex;\n",
              "      flex-wrap:wrap;\n",
              "      gap: 12px;\n",
              "    }\n",
              "\n",
              "    .colab-df-convert {\n",
              "      background-color: #E8F0FE;\n",
              "      border: none;\n",
              "      border-radius: 50%;\n",
              "      cursor: pointer;\n",
              "      display: none;\n",
              "      fill: #1967D2;\n",
              "      height: 32px;\n",
              "      padding: 0 0 0 0;\n",
              "      width: 32px;\n",
              "    }\n",
              "\n",
              "    .colab-df-convert:hover {\n",
              "      background-color: #E2EBFA;\n",
              "      box-shadow: 0px 1px 2px rgba(60, 64, 67, 0.3), 0px 1px 3px 1px rgba(60, 64, 67, 0.15);\n",
              "      fill: #174EA6;\n",
              "    }\n",
              "\n",
              "    [theme=dark] .colab-df-convert {\n",
              "      background-color: #3B4455;\n",
              "      fill: #D2E3FC;\n",
              "    }\n",
              "\n",
              "    [theme=dark] .colab-df-convert:hover {\n",
              "      background-color: #434B5C;\n",
              "      box-shadow: 0px 1px 3px 1px rgba(0, 0, 0, 0.15);\n",
              "      filter: drop-shadow(0px 1px 2px rgba(0, 0, 0, 0.3));\n",
              "      fill: #FFFFFF;\n",
              "    }\n",
              "  </style>\n",
              "\n",
              "      <script>\n",
              "        const buttonEl =\n",
              "          document.querySelector('#df-be7032c6-004d-4c6e-b784-0aace25d4b73 button.colab-df-convert');\n",
              "        buttonEl.style.display =\n",
              "          google.colab.kernel.accessAllowed ? 'block' : 'none';\n",
              "\n",
              "        async function convertToInteractive(key) {\n",
              "          const element = document.querySelector('#df-be7032c6-004d-4c6e-b784-0aace25d4b73');\n",
              "          const dataTable =\n",
              "            await google.colab.kernel.invokeFunction('convertToInteractive',\n",
              "                                                     [key], {});\n",
              "          if (!dataTable) return;\n",
              "\n",
              "          const docLinkHtml = 'Like what you see? Visit the ' +\n",
              "            '<a target=\"_blank\" href=https://colab.research.google.com/notebooks/data_table.ipynb>data table notebook</a>'\n",
              "            + ' to learn more about interactive tables.';\n",
              "          element.innerHTML = '';\n",
              "          dataTable['output_type'] = 'display_data';\n",
              "          await google.colab.output.renderOutput(dataTable, element);\n",
              "          const docLink = document.createElement('div');\n",
              "          docLink.innerHTML = docLinkHtml;\n",
              "          element.appendChild(docLink);\n",
              "        }\n",
              "      </script>\n",
              "    </div>\n",
              "  </div>\n",
              "  "
            ]
          },
          "metadata": {},
          "execution_count": 4
        }
      ]
    },
    {
      "cell_type": "markdown",
      "source": [
        "<b>Task:</b> Look at your `cell_types` variable. Create a new *Markdown* cell and answer the following: What are the two headers? What do you think each of them means? Go to the following website: <span style = \"color:blue\"><u>https://www.ncbi.nlm.nih.gov/gene/</u></span>, and type in the name of the first marker gene you see. Read about this gene and what it does. Repeat this for the second marker gene you see."
      ],
      "metadata": {
        "id": "wMxDwv1JNF_-"
      }
    },
    {
      "cell_type": "code",
      "source": [
        "\n"
      ],
      "metadata": {
        "id": "vWM8B9HwQnDK",
        "outputId": "db09eb76-7429-4605-f0b1-e263eccecdc2",
        "colab": {
          "base_uri": "https://localhost:8080/"
        }
      },
      "execution_count": null,
      "outputs": [
        {
          "output_type": "stream",
          "name": "stdout",
          "text": [
            "https://raw.githubusercontent.com/hallockh/neur_265/main/patch_seq.csv\n"
          ]
        }
      ]
    },
    {
      "cell_type": "markdown",
      "source": [
        "It might be interesting to compare ISIs between the two cell types in your dataset. Recall from our lecture that ISIs are often viewed as a histogram - a type of graph that plots the number of observations for each value (or \"binned\" value)\n",
        "\n",
        "<img src = 'https://drive.google.com/uc?id=1vAoypW_RQ-BzwUgsZH8nHKPds9AoKm9X'>\n"
      ],
      "metadata": {
        "id": "iob-XbrGQivc"
      }
    },
    {
      "cell_type": "markdown",
      "source": [
        "Let's do this with our data. First, we need to make sure we have the `matplotlib` package installed, which will let us create the histograms"
      ],
      "metadata": {
        "id": "ho1YjmGoTBEO"
      }
    },
    {
      "cell_type": "code",
      "source": [
        "# Run this code to install matplotlib\n",
        "try:\n",
        "    import matplotlib\n",
        "    print('matplotlib already installed')\n",
        "except ImportError as e:\n",
        "    !pip install matplotlib  "
      ],
      "metadata": {
        "id": "uxQswSNyWGWe",
        "outputId": "765af3e7-aec7-4e45-bec8-42b2edc650cf",
        "colab": {
          "base_uri": "https://localhost:8080/"
        }
      },
      "execution_count": null,
      "outputs": [
        {
          "output_type": "stream",
          "name": "stdout",
          "text": [
            "matplotlib already installed\n"
          ]
        }
      ]
    },
    {
      "cell_type": "markdown",
      "source": [
        "Now, run the *Code* cell below to create two histograms - one for *Pvalb* neurons and one for *Sst* neurons"
      ],
      "metadata": {
        "id": "FPPdAz9kWUe8"
      }
    },
    {
      "cell_type": "code",
      "source": [
        "# Let's make some histograms!\n",
        "\n",
        "cell_types['ISI'].hist(by = cell_types['Marker'])\n"
      ],
      "metadata": {
        "id": "BD-ynkBFVCQf",
        "outputId": "5be5e227-4258-4ebe-fcf2-c5c6ea697e2f",
        "colab": {
          "base_uri": "https://localhost:8080/",
          "height": 340
        }
      },
      "execution_count": null,
      "outputs": [
        {
          "output_type": "execute_result",
          "data": {
            "text/plain": [
              "array([<matplotlib.axes._subplots.AxesSubplot object at 0x7f2c303e57f0>,\n",
              "       <matplotlib.axes._subplots.AxesSubplot object at 0x7f2c303bbc70>],\n",
              "      dtype=object)"
            ]
          },
          "metadata": {},
          "execution_count": 6
        },
        {
          "output_type": "display_data",
          "data": {
            "text/plain": [
              "<Figure size 432x288 with 2 Axes>"
            ],
            "image/png": "[encoded data removed]"
          },
          "metadata": {
            "needs_background": "light"
          }
        }
      ]
    },
    {
      "cell_type": "markdown",
      "source": [
        "<b>Task:</b> Answer the following in a *Markdown Cell* below: What do you notice about your two histograms? Do they look different? Take note of the axes - what do you think is represented on the x-axis? What is represented on the y-axis? Are the x-axis values the same between the two histograms?"
      ],
      "metadata": {
        "id": "VOTOrnLuXfPQ"
      }
    },
    {
      "cell_type": "markdown",
      "source": [
        "The x axis is the ISI and the y is the counts. The two histograms look different because the sst has action potentials that fire much quicker than the Pvalb, and the Pvalb has more counts between AP showing it is slower. "
      ],
      "metadata": {
        "id": "XZLp3dZ0Xtx6"
      }
    },
    {
      "cell_type": "markdown",
      "source": [
        "Let's re-plot our histograms, and make the x-axis ranges the same. Let's also create x-axis and y-axis labels for our plots. "
      ],
      "metadata": {
        "id": "G9QdBJURXw-P"
      }
    },
    {
      "cell_type": "code",
      "source": [
        "# Let's re-make our histograms!\n",
        "\n",
        "axes = cell_types['ISI'].hist(by = cell_types['Marker'])\n",
        "\n",
        "axes[0].set_xlim(0,250)\n",
        "axes[1].set_xlim(0,250)\n",
        "\n",
        "# Enter appropriate labels for the x-axis and y-axis of the first histogram inside of the parentheses - remember to use '' when creating a string!\n",
        "\n",
        "axes[0].set_ylabel('counts')\n",
        "axes[0].set_xlabel('ISI')\n",
        "\n",
        "# Create code that will do the same thing for your second histogram!\n",
        "axes[1].set_ylabel('counts')\n",
        "axes[1].set_xlabel('ISI')"
      ],
      "metadata": {
        "id": "YlMjvXPQYZdF",
        "outputId": "d2b04bbd-a120-4677-f664-958ba4faa7dd",
        "colab": {
          "base_uri": "https://localhost:8080/",
          "height": 320
        }
      },
      "execution_count": null,
      "outputs": [
        {
          "output_type": "execute_result",
          "data": {
            "text/plain": [
              "Text(0.5, 0, 'ISI')"
            ]
          },
          "metadata": {},
          "execution_count": 8
        },
        {
          "output_type": "display_data",
          "data": {
            "text/plain": [
              "<Figure size 432x288 with 2 Axes>"
            ],
            "image/png": "[encoded data removed]"
          },
          "metadata": {
            "needs_background": "light"
          }
        }
      ]
    }
  ]
}