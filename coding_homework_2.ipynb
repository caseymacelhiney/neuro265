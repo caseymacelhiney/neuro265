{
  "nbformat": 4,
  "nbformat_minor": 0,
  "metadata": {
    "colab": {
      "provenance": [],
      "include_colab_link": true
    },
    "kernelspec": {
      "name": "python3",
      "display_name": "Python 3"
    },
    "language_info": {
      "name": "python"
    }
  },
  "cells": [
    {
      "cell_type": "markdown",
      "metadata": {
        "id": "view-in-github",
        "colab_type": "text"
      },
      "source": [
        "<a href=\"https://colab.research.google.com/github/caseymacelhiney/neuro265/blob/main/coding_homework_2.ipynb\" target=\"_parent\"><img src=\"https://colab.research.google.com/assets/colab-badge.svg\" alt=\"Open In Colab\"/></a>"
      ]
    },
    {
      "cell_type": "markdown",
      "source": [
        "# Coding Homework #2\n",
        "\n",
        "**Instructions:**\n",
        "\n",
        "1. Make a *Markdown Cell* that contains the following information:\n",
        "- Your name (small header)\n",
        "- The name of this class (italicized)\n",
        "- The date (bolded)\n",
        "\n",
        "2. Make a *Code Cell* that imports <code>numpy</code> as <code>np</code>, <code>matplotlib.pyplot</code> as <code>plt</code>, <code>statistics</code> as <code>st</code>.\n",
        "\n",
        "3. Make a *Code Cell* that imports your <code>v_rest1.csv</code> and <code>v_rest2.csv</code> files as <code>numpy</code> arrays called <code>v_rest1</code> and <code>v_rest2</code> respectively. You're used to doing this with the <code>pd.read_csv</code> function for <code>pandas</code>, but can accomplish the same thing using the <code>np.loadtxt</code> function for <code>numpy</code>.\n",
        "\n",
        "4. Make a *Code Cell* that concatenates <code>v_rest1</code> and <code>v_rest2</code> into a matrix with 2 rows and 13 columns named <code>v_rest</code>.\n",
        "\n",
        "5. Make a *Code Cell* that prints the <code>size</code> of <code>v_rest</code>.\n",
        "\n",
        "6. Make a *Code Cell* that returns the first row of <code>v_rest</code>.\n",
        "\n",
        "7. Make a *Code Cell* that returns the sum of the values in the third column of <code>v_rest</code>. You can accomplish this by using <code>v_rest[].sum()</code>, with your index inside of the brackets. As an example, if I wanted to return the sum of the first row of <code>v_rest</code>, I could use <code>v_rest[0].sum()</code> to get my answer.\n",
        "\n",
        "8. Make a *Code Cell* that returns the second-to-last value in the second row of <code>v_rest</code> (use negative indexing for the column value).\n",
        "\n",
        "9. Create a *Code Cell* that makes a histogram of the values in the first row of <code>v_rest</code> (you can do this by using the <code>plt.hist()</code> function). Label your axes.\n",
        "\n",
        "10. Create a *Code Cell* that takes the mean of the values in the first row of <code>v_rest</code>, and assigns the mean to a variable called <code>v_rest_mean_1</code>. Do the same thing for the second row of <code>v_rest</code>, and assign the mean value of the second row to a variable called <code>v_rest_mean_2</code>. You can get the means by using the <code>st.mean()</code> function (remember to put what you want the mean *of* inside the parentheses of the function).\n",
        "\n",
        "11. Create a *Markdown Cell* that describes the difference in means between the two rows. Which one is bigger?\n",
        "\n",
        "12. How can we test whether the difference in means is *meaningful* (statistically significant)? When we're comparing two means, we can use a t-test (assuming the data are normally distributed). To use a t-test on our data, we will first need to import the <code>scipy</code> package. Create a new *Code Cell* that runs the following:\n",
        "\n",
        "<code>\n",
        "import scipy.stats as stats\n",
        "</code>\n",
        "\n",
        "13. Now, we can perform a t-test on the two rows of <code>v_rest</code>. To do this, create a new *Code Cell* that uses the <code>stats.ttest_ind()</code> function - for example:\n",
        "\n",
        "<code>\n",
        "stats.ttest_ind(row1, row2)\n",
        "</code>\n",
        "\n",
        "Replace <code>row1</code> and <code>row2</code> in this case with the first and second rows, respectively, of <code>v_rest</code>.\n",
        "\n",
        "14. Make a *Markdown Cell* that describes the results of your t-test. You should have <code>statistic</code> variable and a <code>pvalue</code> variable. The way to interpret your p-value is as a probability - specifically, the probability that the mean of one distribution could be found in the second distribution. Typically, results are considered to be \"statistically significant\" if the probability is lower than 5% - or 0.05. What is your p-value? Based on this p-value, do you think it is likely that the means are significantly different, or do you think it is likely that they are not?\n",
        "\n",
        "15. Make sure to add at least one line with a <code>#</code> in front of it to each *Code Cell* to describe what each cell does.\n",
        "\n",
        "16. Save a copy of this notebook to your GitHub repo with the title \"coding_homework_2.ipynb\"."
      ],
      "metadata": {
        "id": "CXEcCBSA_prs"
      }
    },
    {
      "cell_type": "markdown",
      "source": [
        "#Casey MacElhiney#\n",
        "\n",
        "_Intro to Neural Data Analysis_\n",
        "\n",
        "__February 23, 2023__\n",
        "\n",
        "\n"
      ],
      "metadata": {
        "id": "gfkWabZyz4hB"
      }
    },
    {
      "cell_type": "code",
      "source": [
        "#2 Make a Code Cell that imports numpy as np, matplotlib.pyplot as plt, statistics as st.\n",
        "import numpy as np\n",
        "import matplotlib.pyplot as plt\n",
        "import statistics as st"
      ],
      "metadata": {
        "id": "Osu7t-j90ZFR"
      },
      "execution_count": 3,
      "outputs": []
    },
    {
      "cell_type": "code",
      "source": [
        "#3 Make a Code Cell that imports your v_rest1.csv and v_rest2.csv files as numpy arrays called v_rest1 and v_rest2 respectively. \n",
        "#You're used to doing this with the pd.read_csv function for pandas, but can accomplish the same thing using the np.loadtxt function for numpy.\n",
        "url1 = 'https://raw.githubusercontent.com/caseymacelhiney/neuro265/main/vrest_1.csv'\n",
        "cell_types = np.loadtxt(url1)\n",
        "v_rest1 = np.loadtxt(url1)\n",
        "url2 = 'https://raw.githubusercontent.com/caseymacelhiney/neuro265/main/vrest_2.csv'\n",
        "cell_types = np.loadtxt(url2)\n",
        "v_rest2 = np.loadtxt(url2)"
      ],
      "metadata": {
        "id": "LdeU1IHR09Dw"
      },
      "execution_count": 4,
      "outputs": []
    },
    {
      "cell_type": "code",
      "source": [
        "# 4 Make a Code Cell that concatenates v_rest1 and v_rest2 into a matrix with 2 rows and 13 columns named v_rest.\n",
        "v_rest = np.array((v_rest1,v_rest2))\n",
        "print(v_rest)\n",
        "#I tried to make the array 2 by 13 for an hour and I could not figure out how to make it work."
      ],
      "metadata": {
        "id": "9pP3zvEx2QgP",
        "outputId": "84678ef6-4ff5-401c-e99d-d3728e30e091",
        "colab": {
          "base_uri": "https://localhost:8080/"
        }
      },
      "execution_count": 14,
      "outputs": [
        {
          "output_type": "stream",
          "name": "stdout",
          "text": [
            "[[-75.90889231 -67.83126153 -71.71313418 -65.94067154 -73.74957886\n",
            "  -75.42175522 -69.68238068 -67.27322515 -70.36322937 -67.56979311\n",
            "  -73.21121724 -80.27273369 -69.15275574]\n",
            " [-70.14709345 -74.73962989 -60.67856307 -71.13487571 -75.5516571\n",
            "  -69.92226492 -65.97109916 -60.12157472 -71.51082631 -78.89204407\n",
            "  -60.05748825 -63.1191864  -76.44429207]]\n"
          ]
        }
      ]
    },
    {
      "cell_type": "code",
      "source": [
        "#5 Make a Code Cell that prints the size of v_rest.\n",
        "print(v_rest.size)\n",
        "print(v_rest.shape)"
      ],
      "metadata": {
        "id": "iVBP4bueF2qv",
        "outputId": "67cfc9e5-3574-483e-90ac-cab3c7ec6c92",
        "colab": {
          "base_uri": "https://localhost:8080/"
        }
      },
      "execution_count": 15,
      "outputs": [
        {
          "output_type": "stream",
          "name": "stdout",
          "text": [
            "26\n",
            "(2, 13)\n"
          ]
        }
      ]
    },
    {
      "cell_type": "code",
      "source": [
        "#6 Make a Code Cell that returns the first row of v_rest.\n",
        "v_rest[0]"
      ],
      "metadata": {
        "id": "3qpewSd4GHuR",
        "outputId": "fda5f61c-65e4-43c6-d2e5-1882833ddf6d",
        "colab": {
          "base_uri": "https://localhost:8080/"
        }
      },
      "execution_count": 28,
      "outputs": [
        {
          "output_type": "execute_result",
          "data": {
            "text/plain": [
              "array([-75.90889231, -67.83126153, -71.71313418, -65.94067154,\n",
              "       -73.74957886, -75.42175522, -69.68238068, -67.27322515,\n",
              "       -70.36322937, -67.56979311, -73.21121724, -80.27273369,\n",
              "       -69.15275574])"
            ]
          },
          "metadata": {},
          "execution_count": 28
        }
      ]
    },
    {
      "cell_type": "code",
      "source": [
        "#7 Make a Code Cell that returns the sum of the values in the third column of v_rest. \n",
        "#You can accomplish this by using v_rest[].sum(), with your index inside of the brackets. \n",
        "#As an example, if I wanted to return the sum of the first row of v_rest, I could use v_rest[0].sum() to get my answer.\n",
        "v_rest[0].sum()"
      ],
      "metadata": {
        "id": "Gxji_Lp5eNVc",
        "outputId": "37455755-936f-46b0-f7b8-354c15982653",
        "colab": {
          "base_uri": "https://localhost:8080/"
        }
      },
      "execution_count": 24,
      "outputs": [
        {
          "output_type": "execute_result",
          "data": {
            "text/plain": [
              "-928.09062862"
            ]
          },
          "metadata": {},
          "execution_count": 24
        }
      ]
    },
    {
      "cell_type": "code",
      "source": [
        "#8 Make a Code Cell that returns the second-to-last value in the second row of v_rest (use negative indexing for the column value).\n",
        "v_rest[1,-2]"
      ],
      "metadata": {
        "id": "iyxSjF5pVHxg",
        "outputId": "da737afd-2606-4e21-da22-dee04a9a8791",
        "colab": {
          "base_uri": "https://localhost:8080/"
        }
      },
      "execution_count": 27,
      "outputs": [
        {
          "output_type": "execute_result",
          "data": {
            "text/plain": [
              "-63.1191864"
            ]
          },
          "metadata": {},
          "execution_count": 27
        }
      ]
    },
    {
      "cell_type": "code",
      "source": [
        "#9 Create a Code Cell that makes a histogram of the values in the first row of v_rest (you can do this by using the plt.hist() function). Label your axes.\n",
        "plt.hist(v_rest1)\n",
        "plt.xlabel('membrane potential')\n",
        "plt.ylabel('counts')"
      ],
      "metadata": {
        "id": "ShwxUJlxV3GM",
        "outputId": "d649a190-d12c-4d3b-d723-e83d074599fc",
        "colab": {
          "base_uri": "https://localhost:8080/",
          "height": 296
        }
      },
      "execution_count": 35,
      "outputs": [
        {
          "output_type": "execute_result",
          "data": {
            "text/plain": [
              "Text(0, 0.5, 'counts')"
            ]
          },
          "metadata": {},
          "execution_count": 35
        },
        {
          "output_type": "display_data",
          "data": {
            "text/plain": [
              "<Figure size 432x288 with 1 Axes>"
            ],
            "image/png": "[encoded data removed]"
          },
          "metadata": {
            "needs_background": "light"
          }
        }
      ]
    },
    {
      "cell_type": "code",
      "source": [
        "#10 Create a Code Cell that takes the mean of the values in the first row of v_rest, and assigns the mean to a variable called v_rest_mean_1. \n",
        "#Do the same thing for the second row of v_rest, and assign the mean value of the second row to a variable called v_rest_mean_2. \n",
        "#You can get the means by using the st.mean() function (remember to put what you want the mean of inside the parentheses of the function).\n",
        "v_rest_mean_1 = st.mean(v_rest1)\n",
        "print(v_rest_mean_1)\n",
        "v_rest_mean_2 = st.mean(v_rest2)\n",
        "print(v_rest_mean_2)"
      ],
      "metadata": {
        "id": "1G0b5T_oX4Rb",
        "outputId": "2f47799e-d906-4c6b-a6a2-77c409a4c76f",
        "colab": {
          "base_uri": "https://localhost:8080/"
        }
      },
      "execution_count": 39,
      "outputs": [
        {
          "output_type": "stream",
          "name": "stdout",
          "text": [
            "-71.39158681692308\n",
            "-69.09927654769231\n"
          ]
        }
      ]
    },
    {
      "cell_type": "markdown",
      "source": [
        "The mean of the second data set is bigger. "
      ],
      "metadata": {
        "id": "J4J8PmeYYaJE"
      }
    },
    {
      "cell_type": "code",
      "source": [
        "#12 How can we test whether the difference in means is meaningful (statistically significant)? \n",
        "#When we're comparing two means, we can use a t-test (assuming the data are normally distributed). \n",
        "#To use a t-test on our data, we will first need to import the scipy package. Create a new Code Cell that runs the following:\n",
        "import scipy.stats as stats"
      ],
      "metadata": {
        "id": "qKW-ypWhYW5_"
      },
      "execution_count": 40,
      "outputs": []
    },
    {
      "cell_type": "code",
      "source": [
        "#13 Now, we can perform a t-test on the two rows of v_rest. To do this, create a new Code Cell that uses the stats.ttest_ind() function - for example:\n",
        "stats.ttest_ind(v_rest1, v_rest2)"
      ],
      "metadata": {
        "id": "_qORtLr3YvL3",
        "outputId": "e72ad47d-83a4-44c1-8a09-52149570ebd4",
        "colab": {
          "base_uri": "https://localhost:8080/"
        }
      },
      "execution_count": 41,
      "outputs": [
        {
          "output_type": "execute_result",
          "data": {
            "text/plain": [
              "Ttest_indResult(statistic=-1.0660639928481046, pvalue=0.2970023078310924)"
            ]
          },
          "metadata": {},
          "execution_count": 41
        }
      ]
    },
    {
      "cell_type": "code",
      "source": [
        "#Make a Markdown Cell that describes the results of your t-test. You should have statistic variable and a pvalue variable. \n",
        "#The way to interpret your p-value is as a probability - specifically, the probability that the mean of one distribution could be found \n",
        "#in the second distribution. Typically, results are considered to be \"statistically significant\" if the probability is lower than 5% - or 0.05. \n",
        "#What is your p-value? \n",
        "#Based on this p-value, do you think it is likely that the means are significantly different, or do you think it is likely that they are not?\n"
      ],
      "metadata": {
        "id": "lNEDptsrZBz1"
      },
      "execution_count": null,
      "outputs": []
    },
    {
      "cell_type": "markdown",
      "source": [
        "#14 \n",
        "My t-test results have a statistic variable of of 1.0660639928481046, and a pvalue of 0.2970023078310924. I do not think my results are statistically significant because the pvalue is not 0.05 or below, indicating that the probability is not lower than 5%. "
      ],
      "metadata": {
        "id": "DmUs9bUyZXsz"
      }
    }
  ]
}