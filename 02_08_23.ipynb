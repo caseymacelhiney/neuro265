{
  "nbformat": 4,
  "nbformat_minor": 0,
  "metadata": {
    "colab": {
      "provenance": [],
      "include_colab_link": true
    },
    "kernelspec": {
      "name": "python3",
      "display_name": "Python 3"
    },
    "language_info": {
      "name": "python"
    }
  },
  "cells": [
    {
      "cell_type": "markdown",
      "metadata": {
        "id": "view-in-github",
        "colab_type": "text"
      },
      "source": [
        "<a href=\"https://colab.research.google.com/github/caseymacelhiney/neuro265/blob/main/02_08_23.ipynb\" target=\"_parent\"><img src=\"https://colab.research.google.com/assets/colab-badge.svg\" alt=\"Open In Colab\"/></a>"
      ]
    },
    {
      "cell_type": "markdown",
      "source": [
        "# Defining cell types by their electrophysiology\n",
        "\n",
        "### The brain has thousands of different types of cells. How do we even begin to tease them apart?\n",
        "\n",
        "We can define neurons by their <b>gene expression patterns</b>, <b>electrophysiology features</b>, and <b>structure</b>. Here, we'll use these features to compare and contrast cell types in the brain.\n",
        "\n",
        "This notebook will help us investigate specific features in the electrophysiology dataset from the Allen Brain Atlas."
      ],
      "metadata": {
        "id": "Y-E5HAGkLM32"
      }
    },
    {
      "cell_type": "markdown",
      "source": [
        "><b>Task:</b> Go to [The Allen Brain Institute Brain map homepage](http://celltypes.brain-map.org), scroll down to \"Download Single Cell Data and Models\", scroll to the section \"Morphology and Electrophysiology\", and click on the <span style = \"color:blue\"><u>Electrophysiology Page</u></span> link. This page shows you the electrophysiology data from one cell. Look at the \"Mouse Line\" category in the top left, and note gene name to the left of \"-Cre\". This is the marker gene for this cell - cells that express this gene also express tdTomato. Go to <span style = \"color:blue\"><u>https://www.ncbi.nlm.nih.gov/gene/</u></span> and type in the name of this gene. Read about this gene and what it does, and record two pieces of information about this gene in the *Markdown Cell* below"
      ],
      "metadata": {
        "id": "zpov12GCLQqP"
      }
    },
    {
      "cell_type": "markdown",
      "source": [
        "**Htr3a-Cre_NO152**\n",
        "\n",
        "This gene is a serotonin receptor. It is located in several cellular components including the axon, cleavage furrow, and neuronal cell body. "
      ],
      "metadata": {
        "id": "WTCJIfUYOpUI"
      }
    },
    {
      "cell_type": "markdown",
      "source": [
        "## Step 1. Set up our coding environment\n",
        "Whenever we start an analysis in Python, we need to be sure to import the necessary code packages. If you're running this notebook on Colab or Binder, the cells below will install packages into your coding environment -- we are *not* installing anything on your computer.\n",
        "\n",
        "### Install the AllenSDK\n",
        "The Allen Institute has compiled a set of code and tools called a **Software Development Kit** (SDK). These tools will help us import and analyze the cell types data. See [Technical Notes](#technical) at the end of this notebook for more information about working with the AllenSDK.\n",
        "\n",
        "><b>Task</b>: Run the cell below, which will install the allensdk into your coding environment.\n",
        "\n",
        "**Technical notes about installing the allensdk**\n",
        "- If you're running this in Colab, you'll also be prompted to **Restart Runtime** after this is completed. Click the **Restart Runtime** button (nothing will happen), and then you're ready to proceed.\n",
        "- If you receive an error or are running this notebook on your local computer, there are additional instructions on how to install the SDK locally <a href=\"http://alleninstitute.github.io/AllenSDK/install.html\">here</a>."
      ],
      "metadata": {
        "id": "jYM2F3bFPFDx"
      }
    },
    {
      "cell_type": "code",
      "source": [
        "# This will ensure that the AllenSDK is installed.\n",
        "try:\n",
        "    import allensdk\n",
        "    print('allensdk imported')\n",
        "except ImportError as e:\n",
        "    !pip install allensdk"
      ],
      "metadata": {
        "id": "WWarKDSgPQYw",
        "outputId": "5e44d711-29e4-407b-c6c2-78ed18daff96",
        "colab": {
          "base_uri": "https://localhost:8080/"
        }
      },
      "execution_count": 1,
      "outputs": [
        {
          "output_type": "stream",
          "name": "stdout",
          "text": [
            "Looking in indexes: https://pypi.org/simple, https://us-python.pkg.dev/colab-wheels/public/simple/\n",
            "Collecting allensdk\n",
            "  Downloading allensdk-2.15.1-py3-none-any.whl (4.0 MB)\n",
            "\u001b[2K     \u001b[90m━━━━━━━━━━━━━━━━━━━━━━━━━━━━━━━━━━━━━━━━\u001b[0m \u001b[32m4.0/4.0 MB\u001b[0m \u001b[31m28.7 MB/s\u001b[0m eta \u001b[36m0:00:00\u001b[0m\n",
            "\u001b[?25hRequirement already satisfied: matplotlib<3.4.3,>=1.4.3 in /usr/local/lib/python3.8/dist-packages (from allensdk) (3.2.2)\n",
            "Requirement already satisfied: seaborn<1.0.0 in /usr/local/lib/python3.8/dist-packages (from allensdk) (0.11.2)\n",
            "Collecting jinja2>=3.0.0\n",
            "  Downloading Jinja2-3.1.2-py3-none-any.whl (133 kB)\n",
            "\u001b[2K     \u001b[90m━━━━━━━━━━━━━━━━━━━━━━━━━━━━━━━━━━━━━━━\u001b[0m \u001b[32m133.1/133.1 KB\u001b[0m \u001b[31m7.5 MB/s\u001b[0m eta \u001b[36m0:00:00\u001b[0m\n",
            "\u001b[?25hRequirement already satisfied: statsmodels<=0.13.0 in /usr/local/lib/python3.8/dist-packages (from allensdk) (0.12.2)\n",
            "Collecting simplejson<4.0.0,>=3.10.0\n",
            "  Downloading simplejson-3.18.3-cp38-cp38-manylinux_2_5_x86_64.manylinux1_x86_64.manylinux_2_17_x86_64.manylinux2014_x86_64.whl (135 kB)\n",
            "\u001b[2K     \u001b[90m━━━━━━━━━━━━━━━━━━━━━━━━━━━━━━━━━━━━━━━\u001b[0m \u001b[32m135.5/135.5 KB\u001b[0m \u001b[31m6.5 MB/s\u001b[0m eta \u001b[36m0:00:00\u001b[0m\n",
            "\u001b[?25hRequirement already satisfied: h5py in /usr/local/lib/python3.8/dist-packages (from allensdk) (3.1.0)\n",
            "Collecting simpleitk<3.0.0,>=2.0.2\n",
            "  Downloading SimpleITK-2.2.1-cp38-cp38-manylinux_2_17_x86_64.manylinux2014_x86_64.whl (52.7 MB)\n",
            "\u001b[2K     \u001b[90m━━━━━━━━━━━━━━━━━━━━━━━━━━━━━━━━━━━━━━━━\u001b[0m \u001b[32m52.7/52.7 MB\u001b[0m \u001b[31m14.2 MB/s\u001b[0m eta \u001b[36m0:00:00\u001b[0m\n",
            "\u001b[?25hCollecting boto3==1.17.21\n",
            "  Downloading boto3-1.17.21-py2.py3-none-any.whl (130 kB)\n",
            "\u001b[2K     \u001b[90m━━━━━━━━━━━━━━━━━━━━━━━━━━━━━━━━━━━━━━━\u001b[0m \u001b[32m130.3/130.3 KB\u001b[0m \u001b[31m2.0 MB/s\u001b[0m eta \u001b[36m0:00:00\u001b[0m\n",
            "\u001b[?25hCollecting psycopg2-binary\n",
            "  Downloading psycopg2_binary-2.9.5-cp38-cp38-manylinux_2_17_x86_64.manylinux2014_x86_64.whl (3.0 MB)\n",
            "\u001b[2K     \u001b[90m━━━━━━━━━━━━━━━━━━━━━━━━━━━━━━━━━━━━━━━━\u001b[0m \u001b[32m3.0/3.0 MB\u001b[0m \u001b[31m26.9 MB/s\u001b[0m eta \u001b[36m0:00:00\u001b[0m\n",
            "\u001b[?25hCollecting semver\n",
            "  Downloading semver-2.13.0-py2.py3-none-any.whl (12 kB)\n",
            "Requirement already satisfied: tqdm>=4.27 in /usr/local/lib/python3.8/dist-packages (from allensdk) (4.64.1)\n",
            "Collecting ndx-events<=0.2.0\n",
            "  Downloading ndx_events-0.2.0-py2.py3-none-any.whl (13 kB)\n",
            "Requirement already satisfied: six<2.0.0,>=1.9.0 in /usr/local/lib/python3.8/dist-packages (from allensdk) (1.15.0)\n",
            "Requirement already satisfied: sqlalchemy in /usr/local/lib/python3.8/dist-packages (from allensdk) (1.4.46)\n",
            "Collecting pynwb\n",
            "  Downloading pynwb-2.2.0-py3-none-any.whl (126 kB)\n",
            "\u001b[2K     \u001b[90m━━━━━━━━━━━━━━━━━━━━━━━━━━━━━━━━━━━━━━━\u001b[0m \u001b[32m126.6/126.6 KB\u001b[0m \u001b[31m3.6 MB/s\u001b[0m eta \u001b[36m0:00:00\u001b[0m\n",
            "\u001b[?25hRequirement already satisfied: future<1.0.0,>=0.14.3 in /usr/local/lib/python3.8/dist-packages (from allensdk) (0.16.0)\n",
            "Requirement already satisfied: scipy<2.0.0,>=1.4.0 in /usr/local/lib/python3.8/dist-packages (from allensdk) (1.7.3)\n",
            "Collecting pynrrd<1.0.0,>=0.2.1\n",
            "  Downloading pynrrd-0.4.3-py2.py3-none-any.whl (18 kB)\n",
            "Collecting argschema<4.0.0,>=3.0.1\n",
            "  Downloading argschema-3.0.4.tar.gz (25 kB)\n",
            "  Installing build dependencies ... \u001b[?25l\u001b[?25hdone\n",
            "  Getting requirements to build wheel ... \u001b[?25l\u001b[?25hdone\n",
            "  Preparing metadata (pyproject.toml) ... \u001b[?25l\u001b[?25hdone\n",
            "Collecting glymur==0.8.19\n",
            "  Downloading Glymur-0.8.19.tar.gz (3.4 MB)\n",
            "\u001b[2K     \u001b[90m━━━━━━━━━━━━━━━━━━━━━━━━━━━━━━━━━━━━━━━━\u001b[0m \u001b[32m3.4/3.4 MB\u001b[0m \u001b[31m57.6 MB/s\u001b[0m eta \u001b[36m0:00:00\u001b[0m\n",
            "\u001b[?25h  Preparing metadata (setup.py) ... \u001b[?25l\u001b[?25hdone\n",
            "Requirement already satisfied: xarray in /usr/local/lib/python3.8/dist-packages (from allensdk) (2022.12.0)\n",
            "Requirement already satisfied: python-dateutil in /usr/local/lib/python3.8/dist-packages (from allensdk) (2.8.2)\n",
            "Collecting scikit-build<1.0.0\n",
            "  Downloading scikit_build-0.16.6-py3-none-any.whl (79 kB)\n",
            "\u001b[2K     \u001b[90m━━━━━━━━━━━━━━━━━━━━━━━━━━━━━━━━━━━━━━━━\u001b[0m \u001b[32m79.0/79.0 KB\u001b[0m \u001b[31m4.9 MB/s\u001b[0m eta \u001b[36m0:00:00\u001b[0m\n",
            "\u001b[?25hCollecting aiohttp==3.7.4\n",
            "  Downloading aiohttp-3.7.4-cp38-cp38-manylinux2014_x86_64.whl (1.5 MB)\n",
            "\u001b[2K     \u001b[90m━━━━━━━━━━━━━━━━━━━━━━━━━━━━━━━━━━━━━━━━\u001b[0m \u001b[32m1.5/1.5 MB\u001b[0m \u001b[31m20.9 MB/s\u001b[0m eta \u001b[36m0:00:00\u001b[0m\n",
            "\u001b[?25hRequirement already satisfied: numpy in /usr/local/lib/python3.8/dist-packages (from allensdk) (1.21.6)\n",
            "Requirement already satisfied: requests<3.0.0 in /usr/local/lib/python3.8/dist-packages (from allensdk) (2.25.1)\n",
            "Requirement already satisfied: pandas>=1.1.5 in /usr/local/lib/python3.8/dist-packages (from allensdk) (1.3.5)\n",
            "Requirement already satisfied: tables in /usr/local/lib/python3.8/dist-packages (from allensdk) (3.7.0)\n",
            "Collecting requests-toolbelt<1.0.0\n",
            "  Downloading requests_toolbelt-0.10.1-py2.py3-none-any.whl (54 kB)\n",
            "\u001b[2K     \u001b[90m━━━━━━━━━━━━━━━━━━━━━━━━━━━━━━━━━━━━━━━━\u001b[0m \u001b[32m54.5/54.5 KB\u001b[0m \u001b[31m2.5 MB/s\u001b[0m eta \u001b[36m0:00:00\u001b[0m\n",
            "\u001b[?25hCollecting cachetools<5.0.0,>=4.2.1\n",
            "  Downloading cachetools-4.2.4-py3-none-any.whl (10 kB)\n",
            "Requirement already satisfied: scikit-image>=0.14.0 in /usr/local/lib/python3.8/dist-packages (from allensdk) (0.18.3)\n",
            "Collecting nest-asyncio\n",
            "  Downloading nest_asyncio-1.5.6-py3-none-any.whl (5.2 kB)\n",
            "Collecting hdmf<=3.4.7\n",
            "  Downloading hdmf-3.4.7-py3-none-any.whl (187 kB)\n",
            "\u001b[2K     \u001b[90m━━━━━━━━━━━━━━━━━━━━━━━━━━━━━━━━━━━━━━\u001b[0m \u001b[32m187.5/187.5 KB\u001b[0m \u001b[31m11.2 MB/s\u001b[0m eta \u001b[36m0:00:00\u001b[0m\n",
            "\u001b[?25hCollecting async-timeout<4.0,>=3.0\n",
            "  Downloading async_timeout-3.0.1-py3-none-any.whl (8.2 kB)\n",
            "Requirement already satisfied: attrs>=17.3.0 in /usr/local/lib/python3.8/dist-packages (from aiohttp==3.7.4->allensdk) (22.2.0)\n",
            "Collecting chardet<4.0,>=2.0\n",
            "  Downloading chardet-3.0.4-py2.py3-none-any.whl (133 kB)\n",
            "\u001b[2K     \u001b[90m━━━━━━━━━━━━━━━━━━━━━━━━━━━━━━━━━━━━━━━\u001b[0m \u001b[32m133.4/133.4 KB\u001b[0m \u001b[31m8.2 MB/s\u001b[0m eta \u001b[36m0:00:00\u001b[0m\n",
            "\u001b[?25hRequirement already satisfied: multidict<7.0,>=4.5 in /usr/local/lib/python3.8/dist-packages (from aiohttp==3.7.4->allensdk) (6.0.4)\n",
            "Requirement already satisfied: typing-extensions>=3.6.5 in /usr/local/lib/python3.8/dist-packages (from aiohttp==3.7.4->allensdk) (4.4.0)\n",
            "Requirement already satisfied: yarl<2.0,>=1.0 in /usr/local/lib/python3.8/dist-packages (from aiohttp==3.7.4->allensdk) (1.8.2)\n",
            "Collecting s3transfer<0.4.0,>=0.3.0\n",
            "  Downloading s3transfer-0.3.7-py2.py3-none-any.whl (73 kB)\n",
            "\u001b[2K     \u001b[90m━━━━━━━━━━━━━━━━━━━━━━━━━━━━━━━━━━━━━━━━\u001b[0m \u001b[32m73.4/73.4 KB\u001b[0m \u001b[31m2.8 MB/s\u001b[0m eta \u001b[36m0:00:00\u001b[0m\n",
            "\u001b[?25hCollecting botocore<1.21.0,>=1.20.21\n",
            "  Downloading botocore-1.20.112-py2.py3-none-any.whl (7.7 MB)\n",
            "\u001b[2K     \u001b[90m━━━━━━━━━━━━━━━━━━━━━━━━━━━━━━━━━━━━━━━━\u001b[0m \u001b[32m7.7/7.7 MB\u001b[0m \u001b[31m44.4 MB/s\u001b[0m eta \u001b[36m0:00:00\u001b[0m\n",
            "\u001b[?25hCollecting jmespath<1.0.0,>=0.7.1\n",
            "  Downloading jmespath-0.10.0-py2.py3-none-any.whl (24 kB)\n",
            "Requirement already satisfied: setuptools in /usr/local/lib/python3.8/dist-packages (from glymur==0.8.19->allensdk) (57.4.0)\n",
            "Requirement already satisfied: pyyaml in /usr/local/lib/python3.8/dist-packages (from argschema<4.0.0,>=3.0.1->allensdk) (6.0)\n",
            "Requirement already satisfied: marshmallow<4.0,>=3.0.0 in /usr/local/lib/python3.8/dist-packages (from argschema<4.0.0,>=3.0.1->allensdk) (3.19.0)\n",
            "Requirement already satisfied: jsonschema<5,>=2.6.0 in /usr/local/lib/python3.8/dist-packages (from hdmf<=3.4.7->allensdk) (4.3.3)\n",
            "Collecting ruamel.yaml<1,>=0.16\n",
            "  Downloading ruamel.yaml-0.17.21-py3-none-any.whl (109 kB)\n",
            "\u001b[2K     \u001b[90m━━━━━━━━━━━━━━━━━━━━━━━━━━━━━━━━━━━━━━\u001b[0m \u001b[32m109.5/109.5 KB\u001b[0m \u001b[31m11.1 MB/s\u001b[0m eta \u001b[36m0:00:00\u001b[0m\n",
            "\u001b[?25hRequirement already satisfied: MarkupSafe>=2.0 in /usr/local/lib/python3.8/dist-packages (from jinja2>=3.0.0->allensdk) (2.0.1)\n",
            "Requirement already satisfied: pyparsing!=2.0.4,!=2.1.2,!=2.1.6,>=2.0.1 in /usr/local/lib/python3.8/dist-packages (from matplotlib<3.4.3,>=1.4.3->allensdk) (3.0.9)\n",
            "Requirement already satisfied: cycler>=0.10 in /usr/local/lib/python3.8/dist-packages (from matplotlib<3.4.3,>=1.4.3->allensdk) (0.11.0)\n",
            "Requirement already satisfied: kiwisolver>=1.0.1 in /usr/local/lib/python3.8/dist-packages (from matplotlib<3.4.3,>=1.4.3->allensdk) (1.4.4)\n",
            "Requirement already satisfied: pytz>=2017.3 in /usr/local/lib/python3.8/dist-packages (from pandas>=1.1.5->allensdk) (2022.7.1)\n",
            "Requirement already satisfied: certifi>=2017.4.17 in /usr/local/lib/python3.8/dist-packages (from requests<3.0.0->allensdk) (2022.12.7)\n",
            "Requirement already satisfied: urllib3<1.27,>=1.21.1 in /usr/local/lib/python3.8/dist-packages (from requests<3.0.0->allensdk) (1.24.3)\n",
            "Requirement already satisfied: idna<3,>=2.5 in /usr/local/lib/python3.8/dist-packages (from requests<3.0.0->allensdk) (2.10)\n",
            "Collecting distro\n",
            "  Downloading distro-1.8.0-py3-none-any.whl (20 kB)\n",
            "Requirement already satisfied: wheel>=0.32.0 in /usr/local/lib/python3.8/dist-packages (from scikit-build<1.0.0->allensdk) (0.38.4)\n",
            "Requirement already satisfied: packaging in /usr/local/lib/python3.8/dist-packages (from scikit-build<1.0.0->allensdk) (23.0)\n",
            "Requirement already satisfied: networkx>=2.0 in /usr/local/lib/python3.8/dist-packages (from scikit-image>=0.14.0->allensdk) (3.0)\n",
            "Requirement already satisfied: tifffile>=2019.7.26 in /usr/local/lib/python3.8/dist-packages (from scikit-image>=0.14.0->allensdk) (2023.1.23.1)\n",
            "Requirement already satisfied: pillow!=7.1.0,!=7.1.1,>=4.3.0 in /usr/local/lib/python3.8/dist-packages (from scikit-image>=0.14.0->allensdk) (7.1.2)\n",
            "Requirement already satisfied: PyWavelets>=1.1.1 in /usr/local/lib/python3.8/dist-packages (from scikit-image>=0.14.0->allensdk) (1.4.1)\n",
            "Requirement already satisfied: imageio>=2.3.0 in /usr/local/lib/python3.8/dist-packages (from scikit-image>=0.14.0->allensdk) (2.9.0)\n",
            "Requirement already satisfied: patsy>=0.5 in /usr/local/lib/python3.8/dist-packages (from statsmodels<=0.13.0->allensdk) (0.5.3)\n",
            "Requirement already satisfied: greenlet!=0.4.17 in /usr/local/lib/python3.8/dist-packages (from sqlalchemy->allensdk) (2.0.2)\n",
            "Requirement already satisfied: numexpr>=2.6.2 in /usr/local/lib/python3.8/dist-packages (from tables->allensdk) (2.8.4)\n",
            "Collecting urllib3<1.27,>=1.21.1\n",
            "  Downloading urllib3-1.26.14-py2.py3-none-any.whl (140 kB)\n",
            "\u001b[2K     \u001b[90m━━━━━━━━━━━━━━━━━━━━━━━━━━━━━━━━━━━━━━\u001b[0m \u001b[32m140.6/140.6 KB\u001b[0m \u001b[31m12.2 MB/s\u001b[0m eta \u001b[36m0:00:00\u001b[0m\n",
            "\u001b[?25hRequirement already satisfied: importlib-resources>=1.4.0 in /usr/local/lib/python3.8/dist-packages (from jsonschema<5,>=2.6.0->hdmf<=3.4.7->allensdk) (5.10.2)\n",
            "Requirement already satisfied: pyrsistent!=0.17.0,!=0.17.1,!=0.17.2,>=0.14.0 in /usr/local/lib/python3.8/dist-packages (from jsonschema<5,>=2.6.0->hdmf<=3.4.7->allensdk) (0.19.3)\n",
            "Collecting ruamel.yaml.clib>=0.2.6\n",
            "  Downloading ruamel.yaml.clib-0.2.7-cp38-cp38-manylinux_2_17_x86_64.manylinux2014_x86_64.manylinux_2_24_x86_64.whl (555 kB)\n",
            "\u001b[2K     \u001b[90m━━━━━━━━━━━━━━━━━━━━━━━━━━━━━━━━━━━━━━\u001b[0m \u001b[32m555.3/555.3 KB\u001b[0m \u001b[31m33.9 MB/s\u001b[0m eta \u001b[36m0:00:00\u001b[0m\n",
            "\u001b[?25hRequirement already satisfied: zipp>=3.1.0 in /usr/local/lib/python3.8/dist-packages (from importlib-resources>=1.4.0->jsonschema<5,>=2.6.0->hdmf<=3.4.7->allensdk) (3.12.0)\n",
            "Building wheels for collected packages: glymur, argschema\n",
            "  Building wheel for glymur (setup.py) ... \u001b[?25l\u001b[?25hdone\n",
            "  Created wheel for glymur: filename=Glymur-0.8.19-py3-none-any.whl size=2722015 sha256=ddcbc4b25efbb16e2b6319a2d64288b6d78588a5237039ab1f251a2f955ae188\n",
            "  Stored in directory: /root/.cache/pip/wheels/1c/a8/3a/1908c55c201be1ecc5c1347fec8d27896c01d589f3e64eb0e4\n",
            "  Building wheel for argschema (pyproject.toml) ... \u001b[?25l\u001b[?25hdone\n",
            "  Created wheel for argschema: filename=argschema-3.0.4-py2.py3-none-any.whl size=19107 sha256=16677e3702884208e63581ca26227ee4e6d6da420dcb226e88e966de7850cc75\n",
            "  Stored in directory: /root/.cache/pip/wheels/7b/d2/32/d43c3f0c5d5ac02ea9adc02f7fc9e3bf470c19f1ddfec61140\n",
            "Successfully built glymur argschema\n",
            "Installing collected packages: simpleitk, chardet, urllib3, simplejson, semver, ruamel.yaml.clib, pynrrd, psycopg2-binary, nest-asyncio, jmespath, jinja2, glymur, distro, cachetools, async-timeout, scikit-build, ruamel.yaml, botocore, argschema, aiohttp, s3transfer, requests-toolbelt, hdmf, pynwb, boto3, ndx-events, allensdk\n",
            "  Attempting uninstall: chardet\n",
            "    Found existing installation: chardet 4.0.0\n",
            "    Uninstalling chardet-4.0.0:\n",
            "      Successfully uninstalled chardet-4.0.0\n",
            "  Attempting uninstall: urllib3\n",
            "    Found existing installation: urllib3 1.24.3\n",
            "    Uninstalling urllib3-1.24.3:\n",
            "      Successfully uninstalled urllib3-1.24.3\n",
            "  Attempting uninstall: jinja2\n",
            "    Found existing installation: Jinja2 2.11.3\n",
            "    Uninstalling Jinja2-2.11.3:\n",
            "      Successfully uninstalled Jinja2-2.11.3\n",
            "  Attempting uninstall: cachetools\n",
            "    Found existing installation: cachetools 5.3.0\n",
            "    Uninstalling cachetools-5.3.0:\n",
            "      Successfully uninstalled cachetools-5.3.0\n",
            "  Attempting uninstall: async-timeout\n",
            "    Found existing installation: async-timeout 4.0.2\n",
            "    Uninstalling async-timeout-4.0.2:\n",
            "      Successfully uninstalled async-timeout-4.0.2\n",
            "  Attempting uninstall: aiohttp\n",
            "    Found existing installation: aiohttp 3.8.3\n",
            "    Uninstalling aiohttp-3.8.3:\n",
            "      Successfully uninstalled aiohttp-3.8.3\n",
            "\u001b[31mERROR: pip's dependency resolver does not currently take into account all the packages that are installed. This behaviour is the source of the following dependency conflicts.\n",
            "notebook 5.7.16 requires jinja2<=3.0.0, but you have jinja2 3.1.2 which is incompatible.\n",
            "flask 1.1.4 requires Jinja2<3.0,>=2.10.1, but you have jinja2 3.1.2 which is incompatible.\u001b[0m\u001b[31m\n",
            "\u001b[0mSuccessfully installed aiohttp-3.7.4 allensdk-2.15.1 argschema-3.0.4 async-timeout-3.0.1 boto3-1.17.21 botocore-1.20.112 cachetools-4.2.4 chardet-3.0.4 distro-1.8.0 glymur-0.8.19 hdmf-3.4.7 jinja2-3.1.2 jmespath-0.10.0 ndx-events-0.2.0 nest-asyncio-1.5.6 psycopg2-binary-2.9.5 pynrrd-0.4.3 pynwb-2.2.0 requests-toolbelt-0.10.1 ruamel.yaml-0.17.21 ruamel.yaml.clib-0.2.7 s3transfer-0.3.7 scikit-build-0.16.6 semver-2.13.0 simpleitk-2.2.1 simplejson-3.18.3 urllib3-1.26.14\n"
          ]
        }
      ]
    },
    {
      "cell_type": "markdown",
      "source": [
        "><b>Task</b>: We also need to make sure that our coding environment has [NumPy](https://numpy.org/), [Pandas](https://pandas.pydata.org/), and [Matplotlib](https://matplotlib.org/) already installed. Run the cell below -- any packages that are missing will be installed for you."
      ],
      "metadata": {
        "id": "Y0xmGhJJPU7D"
      }
    },
    {
      "cell_type": "code",
      "source": [
        "# This will ensure that Numpy, Pandas, and Matplotlib are installed.\n",
        "try:\n",
        "    import numpy\n",
        "    print('numpy already installed')\n",
        "except ImportError as e:\n",
        "    !pip install numpy\n",
        "try:\n",
        "    import pandas\n",
        "    print('pandas already installed')\n",
        "except ImportError as e:\n",
        "    !pip install pandas  \n",
        "try:\n",
        "    import matplotlib\n",
        "    print('matplotlib already installed')\n",
        "except ImportError as e:\n",
        "    !pip install matplotlib"
      ],
      "metadata": {
        "id": "rHfRJ3aQPYmV",
        "outputId": "a38ed843-2c45-4904-d737-e1b60a23155c",
        "colab": {
          "base_uri": "https://localhost:8080/"
        }
      },
      "execution_count": 2,
      "outputs": [
        {
          "output_type": "stream",
          "name": "stdout",
          "text": [
            "numpy already installed\n",
            "pandas already installed\n",
            "matplotlib already installed\n"
          ]
        }
      ]
    },
    {
      "cell_type": "markdown",
      "source": [
        "### Import common packages\n",
        "Below, we'll `import` a common selection of packages that will help us analyze and plot our data. We'll also configure the plotting in our notebook."
      ],
      "metadata": {
        "id": "KFj0U543Pg3j"
      }
    },
    {
      "cell_type": "code",
      "source": [
        "# Import our plotting package from matplotlib\n",
        "import matplotlib.pyplot as plt\n",
        "\n",
        "# Specify that all plots will happen inline & in high resolution\n",
        "%matplotlib inline  \n",
        "%config InlineBackend.figure_format = 'retina'\n",
        "\n",
        "# Import pandas for working with databases\n",
        "import pandas as pd\n",
        "\n",
        "# Import numpy below\n",
        "import numpy as np\n",
        "\n",
        "# Add your print() statement below\n",
        "print('Packages imported!')"
      ],
      "metadata": {
        "id": "mMfQvJIRPkAQ",
        "outputId": "e0029d24-42e4-4976-bd16-335e1366f4c4",
        "colab": {
          "base_uri": "https://localhost:8080/"
        }
      },
      "execution_count": 3,
      "outputs": [
        {
          "output_type": "stream",
          "name": "stdout",
          "text": [
            "Packages imported!\n"
          ]
        }
      ]
    },
    {
      "cell_type": "markdown",
      "source": [
        "### Import the CellTypesModule from the allensdk\n",
        "With the allensdk installed, we can `import` the **CellTypesCache module**.\n",
        "\n",
        "The CellTypesCache that we're importing provides tools to allow us to get information from the cell types database. We're giving it a **manifest** filename as well. CellTypesCache will create this manifest file, which contains metadata about the cache. If you want, you can look in the cell_types folder in your code directory and take a look at the file.\n",
        "\n",
        "><b>Task</b>: Run the cell below."
      ],
      "metadata": {
        "id": "BTjzAHl5P1qA"
      }
    },
    {
      "cell_type": "code",
      "source": [
        "#Import the \"Cell Types Cache\" from the AllenSDK core package\n",
        "from allensdk.core.cell_types_cache import CellTypesCache\n",
        "\n",
        "#Initialize the cache as 'ctc' (cell types cache)\n",
        "ctc = CellTypesCache(manifest_file='cell_types/manifest.json')\n",
        "\n",
        "print('CellTypesCache imported.')"
      ],
      "metadata": {
        "id": "-WJ9sNfyP5l0",
        "outputId": "18846d34-b686-497b-c797-c6ce7d09f00f",
        "colab": {
          "base_uri": "https://localhost:8080/"
        }
      },
      "execution_count": 4,
      "outputs": [
        {
          "output_type": "stream",
          "name": "stdout",
          "text": [
            "CellTypesCache imported.\n"
          ]
        }
      ]
    },
    {
      "cell_type": "markdown",
      "source": [
        "## Step 2. Import data for a single cell\n",
        "\n",
        "Now that we have the module that we need, let's import a raw sweep of the data. The cell below will grab the data for the same experiment you just looked at on the website. This data is in the form of a [**Neuroscience Without Borders** (NWB)](https://www.nwb.org/) file.\n",
        "\n",
        "><b>Task</b>: Find the cell specimen ID for the first cell you looked at on the Allen Institute website (hint: it's in the URL), and assign this to <code>cell_id</code> below by replacing the <code>...</code>. Run the cell.\n",
        "\n",
        "This might take a minute or two. You should wait until the circle in the upper right is <i>not</i> filled (Jupyter Notebook) or you have a green checkmark (Colab) to continue."
      ],
      "metadata": {
        "id": "-v--SeUxQCKB"
      }
    },
    {
      "cell_type": "code",
      "source": [
        "# Enter your cell_id below\n",
        "cell_id = 474626527\n",
        "\n",
        "# Get the electrophysiology (ephys) data for that cell\n",
        "data = ctc.get_ephys_data(cell_id)\n",
        "print('Data retrieved')"
      ],
      "metadata": {
        "id": "wcEA9EWJQKxr",
        "outputId": "3dcbb52b-ac94-4cbe-f154-cf9840e772c8",
        "colab": {
          "base_uri": "https://localhost:8080/"
        }
      },
      "execution_count": 5,
      "outputs": [
        {
          "output_type": "stream",
          "name": "stderr",
          "text": [
            "2023-02-08 16:38:43,569 allensdk.api.api.retrieve_file_over_http INFO     Downloading URL: http://api.brain-map.org/api/v2/well_known_file_download/491198297\n",
            "INFO:allensdk.api.api.retrieve_file_over_http:Downloading URL: http://api.brain-map.org/api/v2/well_known_file_download/491198297\n"
          ]
        },
        {
          "output_type": "stream",
          "name": "stdout",
          "text": [
            "Data retrieved\n"
          ]
        }
      ]
    },
    {
      "cell_type": "markdown",
      "source": [
        "Thankfully, our NWB file has some built-in **methods** to enable us to pull out a recording sweep. We can access methods of objects like our `data` object by adding a period, and then the method. That's what we're doing below, with `data.get_sweep()`.\n",
        "\n",
        "\n",
        "><b>Task:</b> Choose your favorite sweep below. (<u>Hint</u>: go back to the website to see what the sweep numbers are.)\n",
        "    \n",
        "<i>Note</i>: You may get an `H5pyDeprecationWarning`, but don't worry about it. This is out of our control. :)"
      ],
      "metadata": {
        "id": "rB59HVHTQS83"
      }
    },
    {
      "cell_type": "code",
      "source": [
        "# Assign your favorite sweep number to a variable \"sweep_number\" below.\n",
        "sweep_number = 29\n",
        "\n",
        "sweep_data = data.get_sweep(sweep_number) \n",
        "print('Sweep obtained')"
      ],
      "metadata": {
        "id": "b97nxEpDQVDe",
        "outputId": "3fc26aa9-200c-4787-8f4e-cf415c24db56",
        "colab": {
          "base_uri": "https://localhost:8080/"
        }
      },
      "execution_count": 10,
      "outputs": [
        {
          "output_type": "stream",
          "name": "stdout",
          "text": [
            "Sweep obtained\n"
          ]
        }
      ]
    },
    {
      "cell_type": "markdown",
      "source": [
        "## Step 3. Plot a raw sweep of data\n",
        "Now that you've pulled down some data, chosen a cell, and chosen a sweep number, let's plot that data.\n",
        "\n",
        "><b>Task:</b> Run the cell below!"
      ],
      "metadata": {
        "id": "BNRnI-C5QcEs"
      }
    },
    {
      "cell_type": "code",
      "source": [
        "# Get the stimulus trace (in amps) and convert to pA\n",
        "stim_current = sweep_data['stimulus'] * 1e12\n",
        "\n",
        "# Get the voltage trace (in volts) and convert to mV\n",
        "response_voltage = sweep_data['response'] * 1e3\n",
        "\n",
        "# Get the sampling rate and can create a time axis for our data\n",
        "sampling_rate = sweep_data['sampling_rate'] # in Hz\n",
        "timestamps = (np.arange(0, len(response_voltage)) * (1.0 / sampling_rate))\n",
        "\n",
        "# Set up our plot\n",
        "fig, axes = plt.subplots(2, 1, sharex=True,figsize=(8,6))\n",
        "\n",
        "# axes 0 is our first plot, of the recorded voltage data\n",
        "axes[0].plot(timestamps, response_voltage, color='black')\n",
        "axes[0].set_ylabel('mV')\n",
        "axes[0].set_xlim(1.0,1.2) # determines the scaling of the x-axis\n",
        "axes[0].set_ylim(-65,40)\n",
        "axes[0].set_title('whole-cell patch recording')\n",
        "\n",
        "# axes 1 is our second plot, of the stimulus trace\n",
        "axes[1].plot(timestamps, stim_current, color='gray')\n",
        "axes[1].set_ylabel('pA')\n",
        "axes[1].set_xlabel('seconds')\n",
        "axes[1].set_title('stimulus')\n",
        "\n",
        "plt.show()"
      ],
      "metadata": {
        "id": "U7c_WoWhQgid",
        "outputId": "d1df7087-2f21-4a8f-b6ad-8094cf288ec8",
        "colab": {
          "base_uri": "https://localhost:8080/",
          "height": 403
        }
      },
      "execution_count": 23,
      "outputs": [
        {
          "output_type": "display_data",
          "data": {
            "text/plain": [
              "<Figure size 576x432 with 2 Axes>"
            ],
            "image/png": "[encoded data removed]"
          },
          "metadata": {
            "image/png": {
              "width": 516,
              "height": 386
            },
            "needs_background": "light"
          }
        }
      ]
    },
    {
      "cell_type": "markdown",
      "source": [
        "This plot probably looks different from the plot on the website, why?\n",
        "\n",
        "><b>Task:</b> There is a line that has been commented out above.\n",
        "- Uncomment the line (remove the `#` in front of it) to change the scaling of the x-axis in order to zoom in on the period where the current was applied.\n",
        "- You can change the values within the parentheses after <code>set_xlim</code> to change the extent of the x axis. There is more documentation about this method <a href=\"https://matplotlib.org/api/_as_gen/matplotlib.axes.Axes.set_xlim.html\">here</a>.\n",
        "- Re-run the cell to re-plot the data."
      ],
      "metadata": {
        "id": "Pee_2YzIQmsv"
      }
    }
  ]
}